{
 "cells": [
  {
   "cell_type": "markdown",
   "metadata": {},
   "source": [
    "# Python - Fundamentos para a Análise de Dados\n",
    "\n",
    "## Cap 08 - Bokeh\n",
    "\n",
    "[Link](https://docs.bokeh.org/en/latest/index.html) da documentação.\n",
    "\n",
    "Caso não esteja instalado *pip install bokeh*"
   ]
  },
  {
   "cell_type": "code",
   "execution_count": 1,
   "metadata": {},
   "outputs": [],
   "source": [
    "import bokeh\n",
    "from bokeh.io import show, output_notebook\n",
    "from bokeh.plotting import figure, output_file\n",
    "from bokeh.models import ColumnDataSource\n",
    "from bokeh.transform import factor_cmap\n",
    "from bokeh.palettes import Spectral6"
   ]
  },
  {
   "cell_type": "code",
   "execution_count": 2,
   "metadata": {},
   "outputs": [
    {
     "data": {
      "text/html": [
       "\n",
       "    <div class=\"bk-root\">\n",
       "        <a href=\"https://bokeh.org\" target=\"_blank\" class=\"bk-logo bk-logo-small bk-logo-notebook\"></a>\n",
       "        <span id=\"1001\">Loading BokehJS ...</span>\n",
       "    </div>"
      ]
     },
     "metadata": {},
     "output_type": "display_data"
    },
    {
     "data": {
      "application/javascript": [
       "\n",
       "(function(root) {\n",
       "  function now() {\n",
       "    return new Date();\n",
       "  }\n",
       "\n",
       "  var force = true;\n",
       "\n",
       "  if (typeof root._bokeh_onload_callbacks === \"undefined\" || force === true) {\n",
       "    root._bokeh_onload_callbacks = [];\n",
       "    root._bokeh_is_loading = undefined;\n",
       "  }\n",
       "\n",
       "  var JS_MIME_TYPE = 'application/javascript';\n",
       "  var HTML_MIME_TYPE = 'text/html';\n",
       "  var EXEC_MIME_TYPE = 'application/vnd.bokehjs_exec.v0+json';\n",
       "  var CLASS_NAME = 'output_bokeh rendered_html';\n",
       "\n",
       "  /**\n",
       "   * Render data to the DOM node\n",
       "   */\n",
       "  function render(props, node) {\n",
       "    var script = document.createElement(\"script\");\n",
       "    node.appendChild(script);\n",
       "  }\n",
       "\n",
       "  /**\n",
       "   * Handle when an output is cleared or removed\n",
       "   */\n",
       "  function handleClearOutput(event, handle) {\n",
       "    var cell = handle.cell;\n",
       "\n",
       "    var id = cell.output_area._bokeh_element_id;\n",
       "    var server_id = cell.output_area._bokeh_server_id;\n",
       "    // Clean up Bokeh references\n",
       "    if (id != null && id in Bokeh.index) {\n",
       "      Bokeh.index[id].model.document.clear();\n",
       "      delete Bokeh.index[id];\n",
       "    }\n",
       "\n",
       "    if (server_id !== undefined) {\n",
       "      // Clean up Bokeh references\n",
       "      var cmd = \"from bokeh.io.state import curstate; print(curstate().uuid_to_server['\" + server_id + \"'].get_sessions()[0].document.roots[0]._id)\";\n",
       "      cell.notebook.kernel.execute(cmd, {\n",
       "        iopub: {\n",
       "          output: function(msg) {\n",
       "            var id = msg.content.text.trim();\n",
       "            if (id in Bokeh.index) {\n",
       "              Bokeh.index[id].model.document.clear();\n",
       "              delete Bokeh.index[id];\n",
       "            }\n",
       "          }\n",
       "        }\n",
       "      });\n",
       "      // Destroy server and session\n",
       "      var cmd = \"import bokeh.io.notebook as ion; ion.destroy_server('\" + server_id + \"')\";\n",
       "      cell.notebook.kernel.execute(cmd);\n",
       "    }\n",
       "  }\n",
       "\n",
       "  /**\n",
       "   * Handle when a new output is added\n",
       "   */\n",
       "  function handleAddOutput(event, handle) {\n",
       "    var output_area = handle.output_area;\n",
       "    var output = handle.output;\n",
       "\n",
       "    // limit handleAddOutput to display_data with EXEC_MIME_TYPE content only\n",
       "    if ((output.output_type != \"display_data\") || (!output.data.hasOwnProperty(EXEC_MIME_TYPE))) {\n",
       "      return\n",
       "    }\n",
       "\n",
       "    var toinsert = output_area.element.find(\".\" + CLASS_NAME.split(' ')[0]);\n",
       "\n",
       "    if (output.metadata[EXEC_MIME_TYPE][\"id\"] !== undefined) {\n",
       "      toinsert[toinsert.length - 1].firstChild.textContent = output.data[JS_MIME_TYPE];\n",
       "      // store reference to embed id on output_area\n",
       "      output_area._bokeh_element_id = output.metadata[EXEC_MIME_TYPE][\"id\"];\n",
       "    }\n",
       "    if (output.metadata[EXEC_MIME_TYPE][\"server_id\"] !== undefined) {\n",
       "      var bk_div = document.createElement(\"div\");\n",
       "      bk_div.innerHTML = output.data[HTML_MIME_TYPE];\n",
       "      var script_attrs = bk_div.children[0].attributes;\n",
       "      for (var i = 0; i < script_attrs.length; i++) {\n",
       "        toinsert[toinsert.length - 1].firstChild.setAttribute(script_attrs[i].name, script_attrs[i].value);\n",
       "        toinsert[toinsert.length - 1].firstChild.textContent = bk_div.children[0].textContent\n",
       "      }\n",
       "      // store reference to server id on output_area\n",
       "      output_area._bokeh_server_id = output.metadata[EXEC_MIME_TYPE][\"server_id\"];\n",
       "    }\n",
       "  }\n",
       "\n",
       "  function register_renderer(events, OutputArea) {\n",
       "\n",
       "    function append_mime(data, metadata, element) {\n",
       "      // create a DOM node to render to\n",
       "      var toinsert = this.create_output_subarea(\n",
       "        metadata,\n",
       "        CLASS_NAME,\n",
       "        EXEC_MIME_TYPE\n",
       "      );\n",
       "      this.keyboard_manager.register_events(toinsert);\n",
       "      // Render to node\n",
       "      var props = {data: data, metadata: metadata[EXEC_MIME_TYPE]};\n",
       "      render(props, toinsert[toinsert.length - 1]);\n",
       "      element.append(toinsert);\n",
       "      return toinsert\n",
       "    }\n",
       "\n",
       "    /* Handle when an output is cleared or removed */\n",
       "    events.on('clear_output.CodeCell', handleClearOutput);\n",
       "    events.on('delete.Cell', handleClearOutput);\n",
       "\n",
       "    /* Handle when a new output is added */\n",
       "    events.on('output_added.OutputArea', handleAddOutput);\n",
       "\n",
       "    /**\n",
       "     * Register the mime type and append_mime function with output_area\n",
       "     */\n",
       "    OutputArea.prototype.register_mime_type(EXEC_MIME_TYPE, append_mime, {\n",
       "      /* Is output safe? */\n",
       "      safe: true,\n",
       "      /* Index of renderer in `output_area.display_order` */\n",
       "      index: 0\n",
       "    });\n",
       "  }\n",
       "\n",
       "  // register the mime type if in Jupyter Notebook environment and previously unregistered\n",
       "  if (root.Jupyter !== undefined) {\n",
       "    var events = require('base/js/events');\n",
       "    var OutputArea = require('notebook/js/outputarea').OutputArea;\n",
       "\n",
       "    if (OutputArea.prototype.mime_types().indexOf(EXEC_MIME_TYPE) == -1) {\n",
       "      register_renderer(events, OutputArea);\n",
       "    }\n",
       "  }\n",
       "\n",
       "  \n",
       "  if (typeof (root._bokeh_timeout) === \"undefined\" || force === true) {\n",
       "    root._bokeh_timeout = Date.now() + 5000;\n",
       "    root._bokeh_failed_load = false;\n",
       "  }\n",
       "\n",
       "  var NB_LOAD_WARNING = {'data': {'text/html':\n",
       "     \"<div style='background-color: #fdd'>\\n\"+\n",
       "     \"<p>\\n\"+\n",
       "     \"BokehJS does not appear to have successfully loaded. If loading BokehJS from CDN, this \\n\"+\n",
       "     \"may be due to a slow or bad network connection. Possible fixes:\\n\"+\n",
       "     \"</p>\\n\"+\n",
       "     \"<ul>\\n\"+\n",
       "     \"<li>re-rerun `output_notebook()` to attempt to load from CDN again, or</li>\\n\"+\n",
       "     \"<li>use INLINE resources instead, as so:</li>\\n\"+\n",
       "     \"</ul>\\n\"+\n",
       "     \"<code>\\n\"+\n",
       "     \"from bokeh.resources import INLINE\\n\"+\n",
       "     \"output_notebook(resources=INLINE)\\n\"+\n",
       "     \"</code>\\n\"+\n",
       "     \"</div>\"}};\n",
       "\n",
       "  function display_loaded() {\n",
       "    var el = document.getElementById(\"1001\");\n",
       "    if (el != null) {\n",
       "      el.textContent = \"BokehJS is loading...\";\n",
       "    }\n",
       "    if (root.Bokeh !== undefined) {\n",
       "      if (el != null) {\n",
       "        el.textContent = \"BokehJS \" + root.Bokeh.version + \" successfully loaded.\";\n",
       "      }\n",
       "    } else if (Date.now() < root._bokeh_timeout) {\n",
       "      setTimeout(display_loaded, 100)\n",
       "    }\n",
       "  }\n",
       "\n",
       "\n",
       "  function run_callbacks() {\n",
       "    try {\n",
       "      root._bokeh_onload_callbacks.forEach(function(callback) {\n",
       "        if (callback != null)\n",
       "          callback();\n",
       "      });\n",
       "    } finally {\n",
       "      delete root._bokeh_onload_callbacks\n",
       "    }\n",
       "    console.debug(\"Bokeh: all callbacks have finished\");\n",
       "  }\n",
       "\n",
       "  function load_libs(css_urls, js_urls, callback) {\n",
       "    if (css_urls == null) css_urls = [];\n",
       "    if (js_urls == null) js_urls = [];\n",
       "\n",
       "    root._bokeh_onload_callbacks.push(callback);\n",
       "    if (root._bokeh_is_loading > 0) {\n",
       "      console.debug(\"Bokeh: BokehJS is being loaded, scheduling callback at\", now());\n",
       "      return null;\n",
       "    }\n",
       "    if (js_urls == null || js_urls.length === 0) {\n",
       "      run_callbacks();\n",
       "      return null;\n",
       "    }\n",
       "    console.debug(\"Bokeh: BokehJS not loaded, scheduling load and callback at\", now());\n",
       "    root._bokeh_is_loading = css_urls.length + js_urls.length;\n",
       "\n",
       "    function on_load() {\n",
       "      root._bokeh_is_loading--;\n",
       "      if (root._bokeh_is_loading === 0) {\n",
       "        console.debug(\"Bokeh: all BokehJS libraries/stylesheets loaded\");\n",
       "        run_callbacks()\n",
       "      }\n",
       "    }\n",
       "\n",
       "    function on_error() {\n",
       "      console.error(\"failed to load \" + url);\n",
       "    }\n",
       "\n",
       "    for (var i = 0; i < css_urls.length; i++) {\n",
       "      var url = css_urls[i];\n",
       "      const element = document.createElement(\"link\");\n",
       "      element.onload = on_load;\n",
       "      element.onerror = on_error;\n",
       "      element.rel = \"stylesheet\";\n",
       "      element.type = \"text/css\";\n",
       "      element.href = url;\n",
       "      console.debug(\"Bokeh: injecting link tag for BokehJS stylesheet: \", url);\n",
       "      document.body.appendChild(element);\n",
       "    }\n",
       "\n",
       "    const hashes = {\"https://cdn.bokeh.org/bokeh/release/bokeh-2.1.0.min.js\": \"YobFyzPeVUsFQydHkJGsJL1kyfHnWxOlPc3EwaV22TmBaeGoXHLWx5aRRVPS9xlE\", \"https://cdn.bokeh.org/bokeh/release/bokeh-widgets-2.1.0.min.js\": \"NuAg9+TcTQQqvQCTtkCneRrpkTiMhhfiq0KHiBzx8ECiKiLWXHN6i6ia3q7b3eHu\", \"https://cdn.bokeh.org/bokeh/release/bokeh-tables-2.1.0.min.js\": \"uMVqQc8JqHitD67bXTn9a06Mrk3EiHRaZ18EJENQenAKJ/KL71SakdXYomZQpGRr\", \"https://cdn.bokeh.org/bokeh/release/bokeh-gl-2.1.0.min.js\": \"u+eGuEXC8aw0VSCm2mH+b/tQEAitUOYiR1H6SuIVEdUmXsf4vN8m/SmXpmjb7U/X\"};\n",
       "\n",
       "    for (var i = 0; i < js_urls.length; i++) {\n",
       "      var url = js_urls[i];\n",
       "      var element = document.createElement('script');\n",
       "      element.onload = on_load;\n",
       "      element.onerror = on_error;\n",
       "      element.async = false;\n",
       "      element.src = url;\n",
       "      if (url in hashes) {\n",
       "        element.crossOrigin = \"anonymous\";\n",
       "        element.integrity = \"sha384-\" + hashes[url];\n",
       "      }\n",
       "      console.debug(\"Bokeh: injecting script tag for BokehJS library: \", url);\n",
       "      document.head.appendChild(element);\n",
       "    }\n",
       "  };\n",
       "\n",
       "  function inject_raw_css(css) {\n",
       "    const element = document.createElement(\"style\");\n",
       "    element.appendChild(document.createTextNode(css));\n",
       "    document.body.appendChild(element);\n",
       "  }\n",
       "\n",
       "  \n",
       "  var js_urls = [\"https://cdn.bokeh.org/bokeh/release/bokeh-2.1.0.min.js\", \"https://cdn.bokeh.org/bokeh/release/bokeh-widgets-2.1.0.min.js\", \"https://cdn.bokeh.org/bokeh/release/bokeh-tables-2.1.0.min.js\", \"https://cdn.bokeh.org/bokeh/release/bokeh-gl-2.1.0.min.js\"];\n",
       "  var css_urls = [];\n",
       "  \n",
       "\n",
       "  var inline_js = [\n",
       "    function(Bokeh) {\n",
       "      Bokeh.set_log_level(\"info\");\n",
       "    },\n",
       "    function(Bokeh) {\n",
       "    \n",
       "    \n",
       "    }\n",
       "  ];\n",
       "\n",
       "  function run_inline_js() {\n",
       "    \n",
       "    if (root.Bokeh !== undefined || force === true) {\n",
       "      \n",
       "    for (var i = 0; i < inline_js.length; i++) {\n",
       "      inline_js[i].call(root, root.Bokeh);\n",
       "    }\n",
       "    if (force === true) {\n",
       "        display_loaded();\n",
       "      }} else if (Date.now() < root._bokeh_timeout) {\n",
       "      setTimeout(run_inline_js, 100);\n",
       "    } else if (!root._bokeh_failed_load) {\n",
       "      console.log(\"Bokeh: BokehJS failed to load within specified timeout.\");\n",
       "      root._bokeh_failed_load = true;\n",
       "    } else if (force !== true) {\n",
       "      var cell = $(document.getElementById(\"1001\")).parents('.cell').data().cell;\n",
       "      cell.output_area.append_execute_result(NB_LOAD_WARNING)\n",
       "    }\n",
       "\n",
       "  }\n",
       "\n",
       "  if (root._bokeh_is_loading === 0) {\n",
       "    console.debug(\"Bokeh: BokehJS loaded, going straight to plotting\");\n",
       "    run_inline_js();\n",
       "  } else {\n",
       "    load_libs(css_urls, js_urls, function() {\n",
       "      console.debug(\"Bokeh: BokehJS plotting callback run at\", now());\n",
       "      run_inline_js();\n",
       "    });\n",
       "  }\n",
       "}(window));"
      ],
      "application/vnd.bokehjs_load.v0+json": "\n(function(root) {\n  function now() {\n    return new Date();\n  }\n\n  var force = true;\n\n  if (typeof root._bokeh_onload_callbacks === \"undefined\" || force === true) {\n    root._bokeh_onload_callbacks = [];\n    root._bokeh_is_loading = undefined;\n  }\n\n  \n\n  \n  if (typeof (root._bokeh_timeout) === \"undefined\" || force === true) {\n    root._bokeh_timeout = Date.now() + 5000;\n    root._bokeh_failed_load = false;\n  }\n\n  var NB_LOAD_WARNING = {'data': {'text/html':\n     \"<div style='background-color: #fdd'>\\n\"+\n     \"<p>\\n\"+\n     \"BokehJS does not appear to have successfully loaded. If loading BokehJS from CDN, this \\n\"+\n     \"may be due to a slow or bad network connection. Possible fixes:\\n\"+\n     \"</p>\\n\"+\n     \"<ul>\\n\"+\n     \"<li>re-rerun `output_notebook()` to attempt to load from CDN again, or</li>\\n\"+\n     \"<li>use INLINE resources instead, as so:</li>\\n\"+\n     \"</ul>\\n\"+\n     \"<code>\\n\"+\n     \"from bokeh.resources import INLINE\\n\"+\n     \"output_notebook(resources=INLINE)\\n\"+\n     \"</code>\\n\"+\n     \"</div>\"}};\n\n  function display_loaded() {\n    var el = document.getElementById(\"1001\");\n    if (el != null) {\n      el.textContent = \"BokehJS is loading...\";\n    }\n    if (root.Bokeh !== undefined) {\n      if (el != null) {\n        el.textContent = \"BokehJS \" + root.Bokeh.version + \" successfully loaded.\";\n      }\n    } else if (Date.now() < root._bokeh_timeout) {\n      setTimeout(display_loaded, 100)\n    }\n  }\n\n\n  function run_callbacks() {\n    try {\n      root._bokeh_onload_callbacks.forEach(function(callback) {\n        if (callback != null)\n          callback();\n      });\n    } finally {\n      delete root._bokeh_onload_callbacks\n    }\n    console.debug(\"Bokeh: all callbacks have finished\");\n  }\n\n  function load_libs(css_urls, js_urls, callback) {\n    if (css_urls == null) css_urls = [];\n    if (js_urls == null) js_urls = [];\n\n    root._bokeh_onload_callbacks.push(callback);\n    if (root._bokeh_is_loading > 0) {\n      console.debug(\"Bokeh: BokehJS is being loaded, scheduling callback at\", now());\n      return null;\n    }\n    if (js_urls == null || js_urls.length === 0) {\n      run_callbacks();\n      return null;\n    }\n    console.debug(\"Bokeh: BokehJS not loaded, scheduling load and callback at\", now());\n    root._bokeh_is_loading = css_urls.length + js_urls.length;\n\n    function on_load() {\n      root._bokeh_is_loading--;\n      if (root._bokeh_is_loading === 0) {\n        console.debug(\"Bokeh: all BokehJS libraries/stylesheets loaded\");\n        run_callbacks()\n      }\n    }\n\n    function on_error() {\n      console.error(\"failed to load \" + url);\n    }\n\n    for (var i = 0; i < css_urls.length; i++) {\n      var url = css_urls[i];\n      const element = document.createElement(\"link\");\n      element.onload = on_load;\n      element.onerror = on_error;\n      element.rel = \"stylesheet\";\n      element.type = \"text/css\";\n      element.href = url;\n      console.debug(\"Bokeh: injecting link tag for BokehJS stylesheet: \", url);\n      document.body.appendChild(element);\n    }\n\n    const hashes = {\"https://cdn.bokeh.org/bokeh/release/bokeh-2.1.0.min.js\": \"YobFyzPeVUsFQydHkJGsJL1kyfHnWxOlPc3EwaV22TmBaeGoXHLWx5aRRVPS9xlE\", \"https://cdn.bokeh.org/bokeh/release/bokeh-widgets-2.1.0.min.js\": \"NuAg9+TcTQQqvQCTtkCneRrpkTiMhhfiq0KHiBzx8ECiKiLWXHN6i6ia3q7b3eHu\", \"https://cdn.bokeh.org/bokeh/release/bokeh-tables-2.1.0.min.js\": \"uMVqQc8JqHitD67bXTn9a06Mrk3EiHRaZ18EJENQenAKJ/KL71SakdXYomZQpGRr\", \"https://cdn.bokeh.org/bokeh/release/bokeh-gl-2.1.0.min.js\": \"u+eGuEXC8aw0VSCm2mH+b/tQEAitUOYiR1H6SuIVEdUmXsf4vN8m/SmXpmjb7U/X\"};\n\n    for (var i = 0; i < js_urls.length; i++) {\n      var url = js_urls[i];\n      var element = document.createElement('script');\n      element.onload = on_load;\n      element.onerror = on_error;\n      element.async = false;\n      element.src = url;\n      if (url in hashes) {\n        element.crossOrigin = \"anonymous\";\n        element.integrity = \"sha384-\" + hashes[url];\n      }\n      console.debug(\"Bokeh: injecting script tag for BokehJS library: \", url);\n      document.head.appendChild(element);\n    }\n  };\n\n  function inject_raw_css(css) {\n    const element = document.createElement(\"style\");\n    element.appendChild(document.createTextNode(css));\n    document.body.appendChild(element);\n  }\n\n  \n  var js_urls = [\"https://cdn.bokeh.org/bokeh/release/bokeh-2.1.0.min.js\", \"https://cdn.bokeh.org/bokeh/release/bokeh-widgets-2.1.0.min.js\", \"https://cdn.bokeh.org/bokeh/release/bokeh-tables-2.1.0.min.js\", \"https://cdn.bokeh.org/bokeh/release/bokeh-gl-2.1.0.min.js\"];\n  var css_urls = [];\n  \n\n  var inline_js = [\n    function(Bokeh) {\n      Bokeh.set_log_level(\"info\");\n    },\n    function(Bokeh) {\n    \n    \n    }\n  ];\n\n  function run_inline_js() {\n    \n    if (root.Bokeh !== undefined || force === true) {\n      \n    for (var i = 0; i < inline_js.length; i++) {\n      inline_js[i].call(root, root.Bokeh);\n    }\n    if (force === true) {\n        display_loaded();\n      }} else if (Date.now() < root._bokeh_timeout) {\n      setTimeout(run_inline_js, 100);\n    } else if (!root._bokeh_failed_load) {\n      console.log(\"Bokeh: BokehJS failed to load within specified timeout.\");\n      root._bokeh_failed_load = true;\n    } else if (force !== true) {\n      var cell = $(document.getElementById(\"1001\")).parents('.cell').data().cell;\n      cell.output_area.append_execute_result(NB_LOAD_WARNING)\n    }\n\n  }\n\n  if (root._bokeh_is_loading === 0) {\n    console.debug(\"Bokeh: BokehJS loaded, going straight to plotting\");\n    run_inline_js();\n  } else {\n    load_libs(css_urls, js_urls, function() {\n      console.debug(\"Bokeh: BokehJS plotting callback run at\", now());\n      run_inline_js();\n    });\n  }\n}(window));"
     },
     "metadata": {},
     "output_type": "display_data"
    }
   ],
   "source": [
    "#Carregando o Bokeh\n",
    "output_notebook()"
   ]
  },
  {
   "cell_type": "code",
   "execution_count": 3,
   "metadata": {},
   "outputs": [],
   "source": [
    "output_file(\"Bokeh-Grafico-Interativo.html\")"
   ]
  },
  {
   "cell_type": "code",
   "execution_count": 4,
   "metadata": {},
   "outputs": [],
   "source": [
    "p = figure()"
   ]
  },
  {
   "cell_type": "code",
   "execution_count": 5,
   "metadata": {},
   "outputs": [
    {
     "data": {
      "text/html": [
       "<div style=\"display: table;\"><div style=\"display: table-row;\"><div style=\"display: table-cell;\"><b title=\"bokeh.models.renderers.GlyphRenderer\">GlyphRenderer</b>(</div><div style=\"display: table-cell;\">id&nbsp;=&nbsp;'1036', <span id=\"1039\" style=\"cursor: pointer;\">&hellip;)</span></div></div><div class=\"1038\" style=\"display: none;\"><div style=\"display: table-cell;\"></div><div style=\"display: table-cell;\">data_source&nbsp;=&nbsp;ColumnDataSource(id='1033', ...),</div></div><div class=\"1038\" style=\"display: none;\"><div style=\"display: table-cell;\"></div><div style=\"display: table-cell;\">glyph&nbsp;=&nbsp;Line(id='1034', ...),</div></div><div class=\"1038\" style=\"display: none;\"><div style=\"display: table-cell;\"></div><div style=\"display: table-cell;\">hover_glyph&nbsp;=&nbsp;None,</div></div><div class=\"1038\" style=\"display: none;\"><div style=\"display: table-cell;\"></div><div style=\"display: table-cell;\">js_event_callbacks&nbsp;=&nbsp;{},</div></div><div class=\"1038\" style=\"display: none;\"><div style=\"display: table-cell;\"></div><div style=\"display: table-cell;\">js_property_callbacks&nbsp;=&nbsp;{},</div></div><div class=\"1038\" style=\"display: none;\"><div style=\"display: table-cell;\"></div><div style=\"display: table-cell;\">level&nbsp;=&nbsp;'glyph',</div></div><div class=\"1038\" style=\"display: none;\"><div style=\"display: table-cell;\"></div><div style=\"display: table-cell;\">muted&nbsp;=&nbsp;False,</div></div><div class=\"1038\" style=\"display: none;\"><div style=\"display: table-cell;\"></div><div style=\"display: table-cell;\">muted_glyph&nbsp;=&nbsp;None,</div></div><div class=\"1038\" style=\"display: none;\"><div style=\"display: table-cell;\"></div><div style=\"display: table-cell;\">name&nbsp;=&nbsp;None,</div></div><div class=\"1038\" style=\"display: none;\"><div style=\"display: table-cell;\"></div><div style=\"display: table-cell;\">nonselection_glyph&nbsp;=&nbsp;Line(id='1035', ...),</div></div><div class=\"1038\" style=\"display: none;\"><div style=\"display: table-cell;\"></div><div style=\"display: table-cell;\">selection_glyph&nbsp;=&nbsp;None,</div></div><div class=\"1038\" style=\"display: none;\"><div style=\"display: table-cell;\"></div><div style=\"display: table-cell;\">subscribed_events&nbsp;=&nbsp;[],</div></div><div class=\"1038\" style=\"display: none;\"><div style=\"display: table-cell;\"></div><div style=\"display: table-cell;\">tags&nbsp;=&nbsp;[],</div></div><div class=\"1038\" style=\"display: none;\"><div style=\"display: table-cell;\"></div><div style=\"display: table-cell;\">view&nbsp;=&nbsp;CDSView(id='1037', ...),</div></div><div class=\"1038\" style=\"display: none;\"><div style=\"display: table-cell;\"></div><div style=\"display: table-cell;\">visible&nbsp;=&nbsp;True,</div></div><div class=\"1038\" style=\"display: none;\"><div style=\"display: table-cell;\"></div><div style=\"display: table-cell;\">x_range_name&nbsp;=&nbsp;'default',</div></div><div class=\"1038\" style=\"display: none;\"><div style=\"display: table-cell;\"></div><div style=\"display: table-cell;\">y_range_name&nbsp;=&nbsp;'default')</div></div></div>\n",
       "<script>\n",
       "(function() {\n",
       "  var expanded = false;\n",
       "  var ellipsis = document.getElementById(\"1039\");\n",
       "  ellipsis.addEventListener(\"click\", function() {\n",
       "    var rows = document.getElementsByClassName(\"1038\");\n",
       "    for (var i = 0; i < rows.length; i++) {\n",
       "      var el = rows[i];\n",
       "      el.style.display = expanded ? \"none\" : \"table-row\";\n",
       "    }\n",
       "    ellipsis.innerHTML = expanded ? \"&hellip;)\" : \"&lsaquo;&lsaquo;&lsaquo;\";\n",
       "    expanded = !expanded;\n",
       "  });\n",
       "})();\n",
       "</script>\n"
      ],
      "text/plain": [
       "GlyphRenderer(id='1036', ...)"
      ]
     },
     "execution_count": 5,
     "metadata": {},
     "output_type": "execute_result"
    }
   ],
   "source": [
    "p.line([1, 2, 3, 4, 5], [6, 7, 2, 4, 5], line_width = 2)\n"
   ]
  },
  {
   "cell_type": "code",
   "execution_count": 6,
   "metadata": {},
   "outputs": [
    {
     "data": {
      "text/html": [
       "\n",
       "\n",
       "\n",
       "\n",
       "\n",
       "\n",
       "  <div class=\"bk-root\" id=\"518c12e3-3d7e-408d-a657-ffd990534347\" data-root-id=\"1002\"></div>\n"
      ]
     },
     "metadata": {},
     "output_type": "display_data"
    },
    {
     "data": {
      "application/javascript": [
       "(function(root) {\n",
       "  function embed_document(root) {\n",
       "    \n",
       "  var docs_json = {\"0e0ddfe2-a61c-4ff2-bd7b-5dc096589c6a\":{\"roots\":{\"references\":[{\"attributes\":{\"below\":[{\"id\":\"1011\"}],\"center\":[{\"id\":\"1014\"},{\"id\":\"1018\"}],\"left\":[{\"id\":\"1015\"}],\"renderers\":[{\"id\":\"1036\"}],\"title\":{\"id\":\"1041\"},\"toolbar\":{\"id\":\"1026\"},\"x_range\":{\"id\":\"1003\"},\"x_scale\":{\"id\":\"1007\"},\"y_range\":{\"id\":\"1005\"},\"y_scale\":{\"id\":\"1009\"}},\"id\":\"1002\",\"subtype\":\"Figure\",\"type\":\"Plot\"},{\"attributes\":{},\"id\":\"1047\",\"type\":\"Selection\"},{\"attributes\":{\"data_source\":{\"id\":\"1033\"},\"glyph\":{\"id\":\"1034\"},\"hover_glyph\":null,\"muted_glyph\":null,\"nonselection_glyph\":{\"id\":\"1035\"},\"selection_glyph\":null,\"view\":{\"id\":\"1037\"}},\"id\":\"1036\",\"type\":\"GlyphRenderer\"},{\"attributes\":{},\"id\":\"1023\",\"type\":\"ResetTool\"},{\"attributes\":{},\"id\":\"1048\",\"type\":\"UnionRenderers\"},{\"attributes\":{},\"id\":\"1009\",\"type\":\"LinearScale\"},{\"attributes\":{\"line_alpha\":0.1,\"line_color\":\"#1f77b4\",\"line_width\":2,\"x\":{\"field\":\"x\"},\"y\":{\"field\":\"y\"}},\"id\":\"1035\",\"type\":\"Line\"},{\"attributes\":{\"data\":{\"x\":[1,2,3,4,5],\"y\":[6,7,2,4,5]},\"selected\":{\"id\":\"1047\"},\"selection_policy\":{\"id\":\"1048\"}},\"id\":\"1033\",\"type\":\"ColumnDataSource\"},{\"attributes\":{},\"id\":\"1016\",\"type\":\"BasicTicker\"},{\"attributes\":{},\"id\":\"1012\",\"type\":\"BasicTicker\"},{\"attributes\":{\"text\":\"\"},\"id\":\"1041\",\"type\":\"Title\"},{\"attributes\":{\"axis\":{\"id\":\"1011\"},\"ticker\":null},\"id\":\"1014\",\"type\":\"Grid\"},{\"attributes\":{\"active_drag\":\"auto\",\"active_inspect\":\"auto\",\"active_multi\":null,\"active_scroll\":\"auto\",\"active_tap\":\"auto\",\"tools\":[{\"id\":\"1019\"},{\"id\":\"1020\"},{\"id\":\"1021\"},{\"id\":\"1022\"},{\"id\":\"1023\"},{\"id\":\"1024\"}]},\"id\":\"1026\",\"type\":\"Toolbar\"},{\"attributes\":{\"axis\":{\"id\":\"1015\"},\"dimension\":1,\"ticker\":null},\"id\":\"1018\",\"type\":\"Grid\"},{\"attributes\":{\"bottom_units\":\"screen\",\"fill_alpha\":0.5,\"fill_color\":\"lightgrey\",\"left_units\":\"screen\",\"level\":\"overlay\",\"line_alpha\":1.0,\"line_color\":\"black\",\"line_dash\":[4,4],\"line_width\":2,\"right_units\":\"screen\",\"top_units\":\"screen\"},\"id\":\"1025\",\"type\":\"BoxAnnotation\"},{\"attributes\":{\"formatter\":{\"id\":\"1045\"},\"ticker\":{\"id\":\"1012\"}},\"id\":\"1011\",\"type\":\"LinearAxis\"},{\"attributes\":{\"formatter\":{\"id\":\"1043\"},\"ticker\":{\"id\":\"1016\"}},\"id\":\"1015\",\"type\":\"LinearAxis\"},{\"attributes\":{\"source\":{\"id\":\"1033\"}},\"id\":\"1037\",\"type\":\"CDSView\"},{\"attributes\":{},\"id\":\"1045\",\"type\":\"BasicTickFormatter\"},{\"attributes\":{},\"id\":\"1024\",\"type\":\"HelpTool\"},{\"attributes\":{},\"id\":\"1005\",\"type\":\"DataRange1d\"},{\"attributes\":{\"line_color\":\"#1f77b4\",\"line_width\":2,\"x\":{\"field\":\"x\"},\"y\":{\"field\":\"y\"}},\"id\":\"1034\",\"type\":\"Line\"},{\"attributes\":{},\"id\":\"1019\",\"type\":\"PanTool\"},{\"attributes\":{},\"id\":\"1007\",\"type\":\"LinearScale\"},{\"attributes\":{},\"id\":\"1020\",\"type\":\"WheelZoomTool\"},{\"attributes\":{\"overlay\":{\"id\":\"1025\"}},\"id\":\"1021\",\"type\":\"BoxZoomTool\"},{\"attributes\":{},\"id\":\"1003\",\"type\":\"DataRange1d\"},{\"attributes\":{},\"id\":\"1022\",\"type\":\"SaveTool\"},{\"attributes\":{},\"id\":\"1043\",\"type\":\"BasicTickFormatter\"}],\"root_ids\":[\"1002\"]},\"title\":\"Bokeh Application\",\"version\":\"2.1.0\"}};\n",
       "  var render_items = [{\"docid\":\"0e0ddfe2-a61c-4ff2-bd7b-5dc096589c6a\",\"root_ids\":[\"1002\"],\"roots\":{\"1002\":\"518c12e3-3d7e-408d-a657-ffd990534347\"}}];\n",
       "  root.Bokeh.embed.embed_items_notebook(docs_json, render_items);\n",
       "\n",
       "  }\n",
       "  if (root.Bokeh !== undefined) {\n",
       "    embed_document(root);\n",
       "  } else {\n",
       "    var attempts = 0;\n",
       "    var timer = setInterval(function(root) {\n",
       "      if (root.Bokeh !== undefined) {\n",
       "        clearInterval(timer);\n",
       "        embed_document(root);\n",
       "      } else {\n",
       "        attempts++;\n",
       "        if (attempts > 100) {\n",
       "          clearInterval(timer);\n",
       "          console.log(\"Bokeh: ERROR: Unable to run BokehJS code because BokehJS library is missing\");\n",
       "        }\n",
       "      }\n",
       "    }, 10, root)\n",
       "  }\n",
       "})(window);"
      ],
      "application/vnd.bokehjs_exec.v0+json": ""
     },
     "metadata": {
      "application/vnd.bokehjs_exec.v0+json": {
       "id": "1002"
      }
     },
     "output_type": "display_data"
    }
   ],
   "source": [
    "show(p)"
   ]
  },
  {
   "cell_type": "markdown",
   "metadata": {},
   "source": [
    "## Gráfico de Barras"
   ]
  },
  {
   "cell_type": "code",
   "execution_count": 7,
   "metadata": {},
   "outputs": [
    {
     "data": {
      "text/html": [
       "\n",
       "\n",
       "\n",
       "\n",
       "\n",
       "\n",
       "  <div class=\"bk-root\" id=\"8d9eecfb-a291-4fe6-b9d1-1157ebac0cd1\" data-root-id=\"1204\"></div>\n"
      ]
     },
     "metadata": {},
     "output_type": "display_data"
    },
    {
     "data": {
      "application/javascript": [
       "(function(root) {\n",
       "  function embed_document(root) {\n",
       "    \n",
       "  var docs_json = {\"bb08066c-012c-421c-b1db-fba0438ed5e4\":{\"roots\":{\"references\":[{\"attributes\":{\"below\":[{\"id\":\"1215\"}],\"center\":[{\"id\":\"1217\"},{\"id\":\"1221\"},{\"id\":\"1250\"}],\"left\":[{\"id\":\"1218\"}],\"plot_height\":350,\"renderers\":[{\"id\":\"1240\"}],\"title\":{\"id\":\"1205\"},\"toolbar\":{\"id\":\"1229\"},\"toolbar_location\":null,\"x_range\":{\"id\":\"1207\"},\"x_scale\":{\"id\":\"1211\"},\"y_range\":{\"id\":\"1209\"},\"y_scale\":{\"id\":\"1213\"}},\"id\":\"1204\",\"subtype\":\"Figure\",\"type\":\"Plot\"},{\"attributes\":{\"items\":[{\"id\":\"1251\"}],\"location\":\"top_center\",\"orientation\":\"horizontal\"},\"id\":\"1250\",\"type\":\"Legend\"},{\"attributes\":{\"factors\":[\"Ma\\u00e7as\",\"Peras\",\"Tangerinas\",\"Uvas\",\"Melancias\",\"Morangos\"],\"palette\":[\"#3288bd\",\"#99d594\",\"#e6f598\",\"#fee08b\",\"#fc8d59\",\"#d53e4f\"]},\"id\":\"1236\",\"type\":\"CategoricalColorMapper\"},{\"attributes\":{\"formatter\":{\"id\":\"1246\"},\"ticker\":{\"id\":\"1216\"}},\"id\":\"1215\",\"type\":\"CategoricalAxis\"},{\"attributes\":{\"bottom_units\":\"screen\",\"fill_alpha\":0.5,\"fill_color\":\"lightgrey\",\"left_units\":\"screen\",\"level\":\"overlay\",\"line_alpha\":1.0,\"line_color\":\"black\",\"line_dash\":[4,4],\"line_width\":2,\"right_units\":\"screen\",\"top_units\":\"screen\"},\"id\":\"1228\",\"type\":\"BoxAnnotation\"},{\"attributes\":{\"axis\":{\"id\":\"1215\"},\"grid_line_color\":null,\"ticker\":null},\"id\":\"1217\",\"type\":\"Grid\"},{\"attributes\":{\"data\":{\"counts\":[5,3,4,2,4,6],\"fruits\":[\"Ma\\u00e7as\",\"Peras\",\"Tangerinas\",\"Uvas\",\"Melancias\",\"Morangos\"]},\"selected\":{\"id\":\"1248\"},\"selection_policy\":{\"id\":\"1249\"}},\"id\":\"1203\",\"type\":\"ColumnDataSource\"},{\"attributes\":{\"source\":{\"id\":\"1203\"}},\"id\":\"1241\",\"type\":\"CDSView\"},{\"attributes\":{},\"id\":\"1213\",\"type\":\"LinearScale\"},{\"attributes\":{},\"id\":\"1246\",\"type\":\"CategoricalTickFormatter\"},{\"attributes\":{\"axis\":{\"id\":\"1218\"},\"dimension\":1,\"ticker\":null},\"id\":\"1221\",\"type\":\"Grid\"},{\"attributes\":{},\"id\":\"1211\",\"type\":\"CategoricalScale\"},{\"attributes\":{\"fill_alpha\":{\"value\":0.1},\"fill_color\":{\"field\":\"fruits\",\"transform\":{\"id\":\"1236\"}},\"line_alpha\":{\"value\":0.1},\"line_color\":{\"value\":\"white\"},\"top\":{\"field\":\"counts\"},\"width\":{\"value\":0.9},\"x\":{\"field\":\"fruits\"}},\"id\":\"1239\",\"type\":\"VBar\"},{\"attributes\":{},\"id\":\"1249\",\"type\":\"UnionRenderers\"},{\"attributes\":{\"data_source\":{\"id\":\"1203\"},\"glyph\":{\"id\":\"1238\"},\"hover_glyph\":null,\"muted_glyph\":null,\"nonselection_glyph\":{\"id\":\"1239\"},\"selection_glyph\":null,\"view\":{\"id\":\"1241\"}},\"id\":\"1240\",\"type\":\"GlyphRenderer\"},{\"attributes\":{\"label\":{\"value\":\"fruits\"},\"renderers\":[{\"id\":\"1240\"}]},\"id\":\"1251\",\"type\":\"LegendItem\"},{\"attributes\":{},\"id\":\"1223\",\"type\":\"WheelZoomTool\"},{\"attributes\":{\"end\":9,\"start\":0},\"id\":\"1209\",\"type\":\"DataRange1d\"},{\"attributes\":{\"factors\":[\"Ma\\u00e7as\",\"Peras\",\"Tangerinas\",\"Uvas\",\"Melancias\",\"Morangos\"]},\"id\":\"1207\",\"type\":\"FactorRange\"},{\"attributes\":{},\"id\":\"1225\",\"type\":\"SaveTool\"},{\"attributes\":{},\"id\":\"1226\",\"type\":\"ResetTool\"},{\"attributes\":{},\"id\":\"1227\",\"type\":\"HelpTool\"},{\"attributes\":{},\"id\":\"1219\",\"type\":\"BasicTicker\"},{\"attributes\":{},\"id\":\"1244\",\"type\":\"BasicTickFormatter\"},{\"attributes\":{\"text\":\"Contagem de Frutas\"},\"id\":\"1205\",\"type\":\"Title\"},{\"attributes\":{\"overlay\":{\"id\":\"1228\"}},\"id\":\"1224\",\"type\":\"BoxZoomTool\"},{\"attributes\":{},\"id\":\"1222\",\"type\":\"PanTool\"},{\"attributes\":{\"fill_color\":{\"field\":\"fruits\",\"transform\":{\"id\":\"1236\"}},\"line_color\":{\"value\":\"white\"},\"top\":{\"field\":\"counts\"},\"width\":{\"value\":0.9},\"x\":{\"field\":\"fruits\"}},\"id\":\"1238\",\"type\":\"VBar\"},{\"attributes\":{},\"id\":\"1216\",\"type\":\"CategoricalTicker\"},{\"attributes\":{},\"id\":\"1248\",\"type\":\"Selection\"},{\"attributes\":{\"formatter\":{\"id\":\"1244\"},\"ticker\":{\"id\":\"1219\"}},\"id\":\"1218\",\"type\":\"LinearAxis\"},{\"attributes\":{\"active_drag\":\"auto\",\"active_inspect\":\"auto\",\"active_multi\":null,\"active_scroll\":\"auto\",\"active_tap\":\"auto\",\"tools\":[{\"id\":\"1222\"},{\"id\":\"1223\"},{\"id\":\"1224\"},{\"id\":\"1225\"},{\"id\":\"1226\"},{\"id\":\"1227\"}]},\"id\":\"1229\",\"type\":\"Toolbar\"}],\"root_ids\":[\"1204\"]},\"title\":\"Bokeh Application\",\"version\":\"2.1.0\"}};\n",
       "  var render_items = [{\"docid\":\"bb08066c-012c-421c-b1db-fba0438ed5e4\",\"root_ids\":[\"1204\"],\"roots\":{\"1204\":\"8d9eecfb-a291-4fe6-b9d1-1157ebac0cd1\"}}];\n",
       "  root.Bokeh.embed.embed_items_notebook(docs_json, render_items);\n",
       "\n",
       "  }\n",
       "  if (root.Bokeh !== undefined) {\n",
       "    embed_document(root);\n",
       "  } else {\n",
       "    var attempts = 0;\n",
       "    var timer = setInterval(function(root) {\n",
       "      if (root.Bokeh !== undefined) {\n",
       "        clearInterval(timer);\n",
       "        embed_document(root);\n",
       "      } else {\n",
       "        attempts++;\n",
       "        if (attempts > 100) {\n",
       "          clearInterval(timer);\n",
       "          console.log(\"Bokeh: ERROR: Unable to run BokehJS code because BokehJS library is missing\");\n",
       "        }\n",
       "      }\n",
       "    }, 10, root)\n",
       "  }\n",
       "})(window);"
      ],
      "application/vnd.bokehjs_exec.v0+json": ""
     },
     "metadata": {
      "application/vnd.bokehjs_exec.v0+json": {
       "id": "1204"
      }
     },
     "output_type": "display_data"
    }
   ],
   "source": [
    "# Criando um novo gráfico\n",
    "output_file(\"Bokeh-Grafico-Barras.html\")\n",
    "\n",
    "fruits = ['Maças', 'Peras', 'Tangerinas', 'Uvas', 'Melancias', 'Morangos']\n",
    "counts = [5, 3, 4, 2, 4, 6]\n",
    "\n",
    "source = ColumnDataSource(data=dict(fruits=fruits, counts=counts))\n",
    "\n",
    "p = figure(x_range=fruits, plot_height=350, toolbar_location=None, title=\"Contagem de Frutas\")\n",
    "\n",
    "p.vbar(x='fruits', \n",
    "       top='counts', \n",
    "       width=0.9, \n",
    "       source=source, \n",
    "       legend_label=\"fruits\",\n",
    "       line_color='white', \n",
    "       fill_color=factor_cmap('fruits', palette=Spectral6, factors=fruits))\n",
    "\n",
    "p.xgrid.grid_line_color = None\n",
    "p.y_range.start = 0\n",
    "p.y_range.end = 9\n",
    "p.legend.orientation = \"horizontal\"\n",
    "p.legend.location = \"top_center\"\n",
    "\n",
    "show(p)"
   ]
  },
  {
   "cell_type": "markdown",
   "metadata": {},
   "source": [
    "## ScatterPlot"
   ]
  },
  {
   "cell_type": "code",
   "execution_count": 8,
   "metadata": {},
   "outputs": [
    {
     "data": {
      "text/html": [
       "\n",
       "\n",
       "\n",
       "\n",
       "\n",
       "\n",
       "  <div class=\"bk-root\" id=\"bec7c1ee-9810-450d-82cb-c213a3745062\" data-root-id=\"1422\"></div>\n"
      ]
     },
     "metadata": {},
     "output_type": "display_data"
    },
    {
     "data": {
      "application/javascript": [
       "(function(root) {\n",
       "  function embed_document(root) {\n",
       "    \n",
       "  var docs_json = {\"bb9938ca-abbe-44a0-b45d-57c3a06bdd50\":{\"roots\":{\"references\":[{\"attributes\":{\"below\":[{\"id\":\"1433\"}],\"center\":[{\"id\":\"1436\"},{\"id\":\"1440\"}],\"left\":[{\"id\":\"1437\"}],\"renderers\":[{\"id\":\"1458\"}],\"title\":{\"id\":\"1423\"},\"toolbar\":{\"id\":\"1448\"},\"x_range\":{\"id\":\"1425\"},\"x_scale\":{\"id\":\"1429\"},\"y_range\":{\"id\":\"1427\"},\"y_scale\":{\"id\":\"1431\"}},\"id\":\"1422\",\"subtype\":\"Figure\",\"type\":\"Plot\"},{\"attributes\":{},\"id\":\"1431\",\"type\":\"LinearScale\"},{\"attributes\":{},\"id\":\"1446\",\"type\":\"HelpTool\"},{\"attributes\":{\"axis_label\":\"Petal Length\",\"formatter\":{\"id\":\"1481\"},\"ticker\":{\"id\":\"1434\"}},\"id\":\"1433\",\"type\":\"LinearAxis\"},{\"attributes\":{\"overlay\":{\"id\":\"1447\"}},\"id\":\"1443\",\"type\":\"BoxZoomTool\"},{\"attributes\":{\"axis\":{\"id\":\"1437\"},\"dimension\":1,\"ticker\":null},\"id\":\"1440\",\"type\":\"Grid\"},{\"attributes\":{},\"id\":\"1481\",\"type\":\"BasicTickFormatter\"},{\"attributes\":{},\"id\":\"1442\",\"type\":\"WheelZoomTool\"},{\"attributes\":{\"data\":{\"fill_color\":[\"red\",\"red\",\"red\",\"red\",\"red\",\"red\",\"red\",\"red\",\"red\",\"red\",\"red\",\"red\",\"red\",\"red\",\"red\",\"red\",\"red\",\"red\",\"red\",\"red\",\"red\",\"red\",\"red\",\"red\",\"red\",\"red\",\"red\",\"red\",\"red\",\"red\",\"red\",\"red\",\"red\",\"red\",\"red\",\"red\",\"red\",\"red\",\"red\",\"red\",\"red\",\"red\",\"red\",\"red\",\"red\",\"red\",\"red\",\"red\",\"red\",\"red\",\"green\",\"green\",\"green\",\"green\",\"green\",\"green\",\"green\",\"green\",\"green\",\"green\",\"green\",\"green\",\"green\",\"green\",\"green\",\"green\",\"green\",\"green\",\"green\",\"green\",\"green\",\"green\",\"green\",\"green\",\"green\",\"green\",\"green\",\"green\",\"green\",\"green\",\"green\",\"green\",\"green\",\"green\",\"green\",\"green\",\"green\",\"green\",\"green\",\"green\",\"green\",\"green\",\"green\",\"green\",\"green\",\"green\",\"green\",\"green\",\"green\",\"green\",\"blue\",\"blue\",\"blue\",\"blue\",\"blue\",\"blue\",\"blue\",\"blue\",\"blue\",\"blue\",\"blue\",\"blue\",\"blue\",\"blue\",\"blue\",\"blue\",\"blue\",\"blue\",\"blue\",\"blue\",\"blue\",\"blue\",\"blue\",\"blue\",\"blue\",\"blue\",\"blue\",\"blue\",\"blue\",\"blue\",\"blue\",\"blue\",\"blue\",\"blue\",\"blue\",\"blue\",\"blue\",\"blue\",\"blue\",\"blue\",\"blue\",\"blue\",\"blue\",\"blue\",\"blue\",\"blue\",\"blue\",\"blue\",\"blue\",\"blue\"],\"line_color\":[\"red\",\"red\",\"red\",\"red\",\"red\",\"red\",\"red\",\"red\",\"red\",\"red\",\"red\",\"red\",\"red\",\"red\",\"red\",\"red\",\"red\",\"red\",\"red\",\"red\",\"red\",\"red\",\"red\",\"red\",\"red\",\"red\",\"red\",\"red\",\"red\",\"red\",\"red\",\"red\",\"red\",\"red\",\"red\",\"red\",\"red\",\"red\",\"red\",\"red\",\"red\",\"red\",\"red\",\"red\",\"red\",\"red\",\"red\",\"red\",\"red\",\"red\",\"green\",\"green\",\"green\",\"green\",\"green\",\"green\",\"green\",\"green\",\"green\",\"green\",\"green\",\"green\",\"green\",\"green\",\"green\",\"green\",\"green\",\"green\",\"green\",\"green\",\"green\",\"green\",\"green\",\"green\",\"green\",\"green\",\"green\",\"green\",\"green\",\"green\",\"green\",\"green\",\"green\",\"green\",\"green\",\"green\",\"green\",\"green\",\"green\",\"green\",\"green\",\"green\",\"green\",\"green\",\"green\",\"green\",\"green\",\"green\",\"green\",\"green\",\"blue\",\"blue\",\"blue\",\"blue\",\"blue\",\"blue\",\"blue\",\"blue\",\"blue\",\"blue\",\"blue\",\"blue\",\"blue\",\"blue\",\"blue\",\"blue\",\"blue\",\"blue\",\"blue\",\"blue\",\"blue\",\"blue\",\"blue\",\"blue\",\"blue\",\"blue\",\"blue\",\"blue\",\"blue\",\"blue\",\"blue\",\"blue\",\"blue\",\"blue\",\"blue\",\"blue\",\"blue\",\"blue\",\"blue\",\"blue\",\"blue\",\"blue\",\"blue\",\"blue\",\"blue\",\"blue\",\"blue\",\"blue\",\"blue\",\"blue\"],\"x\":{\"__ndarray__\":\"ZmZmZmZm9j9mZmZmZmb2P83MzMzMzPQ/AAAAAAAA+D9mZmZmZmb2PzMzMzMzM/s/ZmZmZmZm9j8AAAAAAAD4P2ZmZmZmZvY/AAAAAAAA+D8AAAAAAAD4P5qZmZmZmfk/ZmZmZmZm9j+amZmZmZnxPzMzMzMzM/M/AAAAAAAA+D/NzMzMzMz0P2ZmZmZmZvY/MzMzMzMz+z8AAAAAAAD4PzMzMzMzM/s/AAAAAAAA+D8AAAAAAADwPzMzMzMzM/s/ZmZmZmZm/j+amZmZmZn5P5qZmZmZmfk/AAAAAAAA+D9mZmZmZmb2P5qZmZmZmfk/mpmZmZmZ+T8AAAAAAAD4PwAAAAAAAPg/ZmZmZmZm9j8AAAAAAAD4PzMzMzMzM/M/zczMzMzM9D9mZmZmZmb2P83MzMzMzPQ/AAAAAAAA+D/NzMzMzMz0P83MzMzMzPQ/zczMzMzM9D+amZmZmZn5P2ZmZmZmZv4/ZmZmZmZm9j+amZmZmZn5P2ZmZmZmZvY/AAAAAAAA+D9mZmZmZmb2P83MzMzMzBJAAAAAAAAAEkCamZmZmZkTQAAAAAAAABBAZmZmZmZmEkAAAAAAAAASQM3MzMzMzBJAZmZmZmZmCkBmZmZmZmYSQDMzMzMzMw9AAAAAAAAADEDNzMzMzMwQQAAAAAAAABBAzczMzMzMEkDNzMzMzMwMQJqZmZmZmRFAAAAAAAAAEkBmZmZmZmYQQAAAAAAAABJAMzMzMzMzD0AzMzMzMzMTQAAAAAAAABBAmpmZmZmZE0DNzMzMzMwSQDMzMzMzMxFAmpmZmZmZEUAzMzMzMzMTQAAAAAAAABRAAAAAAAAAEkAAAAAAAAAMQGZmZmZmZg5AmpmZmZmZDUAzMzMzMzMPQGZmZmZmZhRAAAAAAAAAEkAAAAAAAAASQM3MzMzMzBJAmpmZmZmZEUBmZmZmZmYQQAAAAAAAABBAmpmZmZmZEUBmZmZmZmYSQAAAAAAAABBAZmZmZmZmCkDNzMzMzMwQQM3MzMzMzBBAzczMzMzMEEAzMzMzMzMRQAAAAAAAAAhAZmZmZmZmEEAAAAAAAAAYQGZmZmZmZhRAmpmZmZmZF0BmZmZmZmYWQDMzMzMzMxdAZmZmZmZmGkAAAAAAAAASQDMzMzMzMxlAMzMzMzMzF0BmZmZmZmYYQGZmZmZmZhRAMzMzMzMzFUAAAAAAAAAWQAAAAAAAABRAZmZmZmZmFEAzMzMzMzMVQAAAAAAAABZAzczMzMzMGkCamZmZmZkbQAAAAAAAABRAzczMzMzMFkCamZmZmZkTQM3MzMzMzBpAmpmZmZmZE0DNzMzMzMwWQAAAAAAAABhAMzMzMzMzE0CamZmZmZkTQGZmZmZmZhZAMzMzMzMzF0BmZmZmZmYYQJqZmZmZmRlAZmZmZmZmFkBmZmZmZmYUQGZmZmZmZhZAZmZmZmZmGEBmZmZmZmYWQAAAAAAAABZAMzMzMzMzE0CamZmZmZkVQGZmZmZmZhZAZmZmZmZmFEBmZmZmZmYUQJqZmZmZmRdAzczMzMzMFkDNzMzMzMwUQAAAAAAAABRAzczMzMzMFECamZmZmZkVQGZmZmZmZhRA\",\"dtype\":\"float64\",\"order\":\"little\",\"shape\":[150]},\"y\":{\"__ndarray__\":\"mpmZmZmZyT+amZmZmZnJP5qZmZmZmck/mpmZmZmZyT+amZmZmZnJP5qZmZmZmdk/MzMzMzMz0z+amZmZmZnJP5qZmZmZmck/mpmZmZmZuT+amZmZmZnJP5qZmZmZmck/mpmZmZmZuT+amZmZmZm5P5qZmZmZmck/mpmZmZmZ2T+amZmZmZnZPzMzMzMzM9M/MzMzMzMz0z8zMzMzMzPTP5qZmZmZmck/mpmZmZmZ2T+amZmZmZnJPwAAAAAAAOA/mpmZmZmZyT+amZmZmZnJP5qZmZmZmdk/mpmZmZmZyT+amZmZmZnJP5qZmZmZmck/mpmZmZmZyT+amZmZmZnZP5qZmZmZmbk/mpmZmZmZyT+amZmZmZnJP5qZmZmZmck/mpmZmZmZyT+amZmZmZm5P5qZmZmZmck/mpmZmZmZyT8zMzMzMzPTPzMzMzMzM9M/mpmZmZmZyT8zMzMzMzPjP5qZmZmZmdk/MzMzMzMz0z+amZmZmZnJP5qZmZmZmck/mpmZmZmZyT+amZmZmZnJP2ZmZmZmZvY/AAAAAAAA+D8AAAAAAAD4P83MzMzMzPQ/AAAAAAAA+D/NzMzMzMz0P5qZmZmZmfk/AAAAAAAA8D/NzMzMzMz0P2ZmZmZmZvY/AAAAAAAA8D8AAAAAAAD4PwAAAAAAAPA/ZmZmZmZm9j/NzMzMzMz0P2ZmZmZmZvY/AAAAAAAA+D8AAAAAAADwPwAAAAAAAPg/mpmZmZmZ8T/NzMzMzMz8P83MzMzMzPQ/AAAAAAAA+D8zMzMzMzPzP83MzMzMzPQ/ZmZmZmZm9j9mZmZmZmb2PzMzMzMzM/s/AAAAAAAA+D8AAAAAAADwP5qZmZmZmfE/AAAAAAAA8D8zMzMzMzPzP5qZmZmZmfk/AAAAAAAA+D+amZmZmZn5PwAAAAAAAPg/zczMzMzM9D/NzMzMzMz0P83MzMzMzPQ/MzMzMzMz8z9mZmZmZmb2PzMzMzMzM/M/AAAAAAAA8D/NzMzMzMz0PzMzMzMzM/M/zczMzMzM9D/NzMzMzMz0P5qZmZmZmfE/zczMzMzM9D8AAAAAAAAEQGZmZmZmZv4/zczMzMzMAEDNzMzMzMz8P5qZmZmZmQFAzczMzMzMAEAzMzMzMzP7P83MzMzMzPw/zczMzMzM/D8AAAAAAAAEQAAAAAAAAABAZmZmZmZm/j/NzMzMzMwAQAAAAAAAAABAMzMzMzMzA0BmZmZmZmYCQM3MzMzMzPw/mpmZmZmZAUBmZmZmZmYCQAAAAAAAAPg/ZmZmZmZmAkAAAAAAAAAAQAAAAAAAAABAzczMzMzM/D/NzMzMzMwAQM3MzMzMzPw/zczMzMzM/D/NzMzMzMz8P83MzMzMzABAmpmZmZmZ+T9mZmZmZmb+PwAAAAAAAABAmpmZmZmZAUAAAAAAAAD4P2ZmZmZmZvY/ZmZmZmZmAkAzMzMzMzMDQM3MzMzMzPw/zczMzMzM/D/NzMzMzMwAQDMzMzMzMwNAZmZmZmZmAkBmZmZmZmb+P2ZmZmZmZgJAAAAAAAAABEBmZmZmZmYCQGZmZmZmZv4/AAAAAAAAAEBmZmZmZmYCQM3MzMzMzPw/\",\"dtype\":\"float64\",\"order\":\"little\",\"shape\":[150]}},\"selected\":{\"id\":\"1483\"},\"selection_policy\":{\"id\":\"1484\"}},\"id\":\"1455\",\"type\":\"ColumnDataSource\"},{\"attributes\":{\"data_source\":{\"id\":\"1455\"},\"glyph\":{\"id\":\"1456\"},\"hover_glyph\":null,\"muted_glyph\":null,\"nonselection_glyph\":{\"id\":\"1457\"},\"selection_glyph\":null,\"view\":{\"id\":\"1459\"}},\"id\":\"1458\",\"type\":\"GlyphRenderer\"},{\"attributes\":{},\"id\":\"1438\",\"type\":\"BasicTicker\"},{\"attributes\":{\"fill_alpha\":{\"value\":0.2},\"fill_color\":{\"field\":\"fill_color\"},\"line_color\":{\"field\":\"line_color\"},\"size\":{\"units\":\"screen\",\"value\":10},\"x\":{\"field\":\"x\"},\"y\":{\"field\":\"y\"}},\"id\":\"1456\",\"type\":\"Circle\"},{\"attributes\":{\"axis\":{\"id\":\"1433\"},\"ticker\":null},\"id\":\"1436\",\"type\":\"Grid\"},{\"attributes\":{\"axis_label\":\"Petal Width\",\"formatter\":{\"id\":\"1479\"},\"ticker\":{\"id\":\"1438\"}},\"id\":\"1437\",\"type\":\"LinearAxis\"},{\"attributes\":{},\"id\":\"1441\",\"type\":\"PanTool\"},{\"attributes\":{},\"id\":\"1444\",\"type\":\"SaveTool\"},{\"attributes\":{},\"id\":\"1484\",\"type\":\"UnionRenderers\"},{\"attributes\":{\"bottom_units\":\"screen\",\"fill_alpha\":0.5,\"fill_color\":\"lightgrey\",\"left_units\":\"screen\",\"level\":\"overlay\",\"line_alpha\":1.0,\"line_color\":\"black\",\"line_dash\":[4,4],\"line_width\":2,\"right_units\":\"screen\",\"top_units\":\"screen\"},\"id\":\"1447\",\"type\":\"BoxAnnotation\"},{\"attributes\":{},\"id\":\"1429\",\"type\":\"LinearScale\"},{\"attributes\":{\"fill_alpha\":{\"value\":0.1},\"fill_color\":{\"field\":\"fill_color\"},\"line_alpha\":{\"value\":0.1},\"line_color\":{\"field\":\"line_color\"},\"size\":{\"units\":\"screen\",\"value\":10},\"x\":{\"field\":\"x\"},\"y\":{\"field\":\"y\"}},\"id\":\"1457\",\"type\":\"Circle\"},{\"attributes\":{},\"id\":\"1425\",\"type\":\"DataRange1d\"},{\"attributes\":{\"source\":{\"id\":\"1455\"}},\"id\":\"1459\",\"type\":\"CDSView\"},{\"attributes\":{},\"id\":\"1445\",\"type\":\"ResetTool\"},{\"attributes\":{},\"id\":\"1434\",\"type\":\"BasicTicker\"},{\"attributes\":{},\"id\":\"1479\",\"type\":\"BasicTickFormatter\"},{\"attributes\":{\"text\":\"Iris Morphology\"},\"id\":\"1423\",\"type\":\"Title\"},{\"attributes\":{},\"id\":\"1427\",\"type\":\"DataRange1d\"},{\"attributes\":{},\"id\":\"1483\",\"type\":\"Selection\"},{\"attributes\":{\"active_drag\":\"auto\",\"active_inspect\":\"auto\",\"active_multi\":null,\"active_scroll\":\"auto\",\"active_tap\":\"auto\",\"tools\":[{\"id\":\"1441\"},{\"id\":\"1442\"},{\"id\":\"1443\"},{\"id\":\"1444\"},{\"id\":\"1445\"},{\"id\":\"1446\"}]},\"id\":\"1448\",\"type\":\"Toolbar\"}],\"root_ids\":[\"1422\"]},\"title\":\"Bokeh Application\",\"version\":\"2.1.0\"}};\n",
       "  var render_items = [{\"docid\":\"bb9938ca-abbe-44a0-b45d-57c3a06bdd50\",\"root_ids\":[\"1422\"],\"roots\":{\"1422\":\"bec7c1ee-9810-450d-82cb-c213a3745062\"}}];\n",
       "  root.Bokeh.embed.embed_items_notebook(docs_json, render_items);\n",
       "\n",
       "  }\n",
       "  if (root.Bokeh !== undefined) {\n",
       "    embed_document(root);\n",
       "  } else {\n",
       "    var attempts = 0;\n",
       "    var timer = setInterval(function(root) {\n",
       "      if (root.Bokeh !== undefined) {\n",
       "        clearInterval(timer);\n",
       "        embed_document(root);\n",
       "      } else {\n",
       "        attempts++;\n",
       "        if (attempts > 100) {\n",
       "          clearInterval(timer);\n",
       "          console.log(\"Bokeh: ERROR: Unable to run BokehJS code because BokehJS library is missing\");\n",
       "        }\n",
       "      }\n",
       "    }, 10, root)\n",
       "  }\n",
       "})(window);"
      ],
      "application/vnd.bokehjs_exec.v0+json": ""
     },
     "metadata": {
      "application/vnd.bokehjs_exec.v0+json": {
       "id": "1422"
      }
     },
     "output_type": "display_data"
    }
   ],
   "source": [
    "# Construindo um ScatterPlot\n",
    "from bokeh.plotting import figure, show, output_file\n",
    "from bokeh.sampledata.iris import flowers\n",
    "\n",
    "colormap = {'setosa': 'red', 'versicolor': 'green', 'virginica': 'blue'}\n",
    "colors = [colormap[x] for x in flowers['species']]\n",
    "\n",
    "p = figure(title = \"Iris Morphology\")\n",
    "p.xaxis.axis_label = 'Petal Length'\n",
    "p.yaxis.axis_label = 'Petal Width'\n",
    "\n",
    "p.circle(flowers[\"petal_length\"], flowers[\"petal_width\"], color=colors, fill_alpha=0.2, size=10)\n",
    "\n",
    "output_file(\"Bokeh_grafico_Iris.html\", title=\"iris.py example\")\n",
    "\n",
    "show(p)\n"
   ]
  },
  {
   "cell_type": "markdown",
   "metadata": {},
   "source": [
    "## Gráfico de Círculos"
   ]
  },
  {
   "cell_type": "code",
   "execution_count": 9,
   "metadata": {},
   "outputs": [
    {
     "data": {
      "text/html": [
       "\n",
       "\n",
       "\n",
       "\n",
       "\n",
       "\n",
       "  <div class=\"bk-root\" id=\"478dc4ae-6efd-4466-8047-b26c514b017e\" data-root-id=\"1638\"></div>\n"
      ]
     },
     "metadata": {},
     "output_type": "display_data"
    },
    {
     "data": {
      "application/javascript": [
       "(function(root) {\n",
       "  function embed_document(root) {\n",
       "    \n",
       "  var docs_json = {\"e22e846c-6fc7-47e5-8037-63a9224e2dbd\":{\"roots\":{\"references\":[{\"attributes\":{\"below\":[{\"id\":\"1647\"}],\"center\":[{\"id\":\"1650\"},{\"id\":\"1654\"}],\"left\":[{\"id\":\"1651\"}],\"plot_height\":400,\"plot_width\":400,\"renderers\":[{\"id\":\"1672\"}],\"title\":{\"id\":\"1700\"},\"toolbar\":{\"id\":\"1662\"},\"x_range\":{\"id\":\"1639\"},\"x_scale\":{\"id\":\"1643\"},\"y_range\":{\"id\":\"1641\"},\"y_scale\":{\"id\":\"1645\"}},\"id\":\"1638\",\"subtype\":\"Figure\",\"type\":\"Plot\"},{\"attributes\":{\"active_drag\":\"auto\",\"active_inspect\":\"auto\",\"active_multi\":null,\"active_scroll\":\"auto\",\"active_tap\":\"auto\",\"tools\":[{\"id\":\"1655\"},{\"id\":\"1656\"},{\"id\":\"1657\"},{\"id\":\"1658\"},{\"id\":\"1659\"},{\"id\":\"1660\"}]},\"id\":\"1662\",\"type\":\"Toolbar\"},{\"attributes\":{},\"id\":\"1639\",\"type\":\"DataRange1d\"},{\"attributes\":{},\"id\":\"1660\",\"type\":\"HelpTool\"},{\"attributes\":{},\"id\":\"1645\",\"type\":\"LinearScale\"},{\"attributes\":{\"source\":{\"id\":\"1669\"}},\"id\":\"1673\",\"type\":\"CDSView\"},{\"attributes\":{\"fill_alpha\":{\"value\":0.5},\"fill_color\":{\"value\":\"navy\"},\"line_alpha\":{\"value\":0.5},\"line_color\":{\"value\":\"navy\"},\"size\":{\"units\":\"screen\",\"value\":20},\"x\":{\"field\":\"x\"},\"y\":{\"field\":\"y\"}},\"id\":\"1670\",\"type\":\"Circle\"},{\"attributes\":{},\"id\":\"1702\",\"type\":\"BasicTickFormatter\"},{\"attributes\":{\"fill_alpha\":{\"value\":0.1},\"fill_color\":{\"value\":\"navy\"},\"line_alpha\":{\"value\":0.1},\"line_color\":{\"value\":\"navy\"},\"size\":{\"units\":\"screen\",\"value\":20},\"x\":{\"field\":\"x\"},\"y\":{\"field\":\"y\"}},\"id\":\"1671\",\"type\":\"Circle\"},{\"attributes\":{\"axis\":{\"id\":\"1647\"},\"ticker\":null},\"id\":\"1650\",\"type\":\"Grid\"},{\"attributes\":{\"data_source\":{\"id\":\"1669\"},\"glyph\":{\"id\":\"1670\"},\"hover_glyph\":null,\"muted_glyph\":null,\"nonselection_glyph\":{\"id\":\"1671\"},\"selection_glyph\":null,\"view\":{\"id\":\"1673\"}},\"id\":\"1672\",\"type\":\"GlyphRenderer\"},{\"attributes\":{\"formatter\":{\"id\":\"1702\"},\"ticker\":{\"id\":\"1652\"}},\"id\":\"1651\",\"type\":\"LinearAxis\"},{\"attributes\":{},\"id\":\"1648\",\"type\":\"BasicTicker\"},{\"attributes\":{},\"id\":\"1655\",\"type\":\"PanTool\"},{\"attributes\":{},\"id\":\"1704\",\"type\":\"BasicTickFormatter\"},{\"attributes\":{\"bottom_units\":\"screen\",\"fill_alpha\":0.5,\"fill_color\":\"lightgrey\",\"left_units\":\"screen\",\"level\":\"overlay\",\"line_alpha\":1.0,\"line_color\":\"black\",\"line_dash\":[4,4],\"line_width\":2,\"right_units\":\"screen\",\"top_units\":\"screen\"},\"id\":\"1661\",\"type\":\"BoxAnnotation\"},{\"attributes\":{},\"id\":\"1706\",\"type\":\"Selection\"},{\"attributes\":{},\"id\":\"1707\",\"type\":\"UnionRenderers\"},{\"attributes\":{\"formatter\":{\"id\":\"1704\"},\"ticker\":{\"id\":\"1648\"}},\"id\":\"1647\",\"type\":\"LinearAxis\"},{\"attributes\":{},\"id\":\"1658\",\"type\":\"SaveTool\"},{\"attributes\":{},\"id\":\"1656\",\"type\":\"WheelZoomTool\"},{\"attributes\":{\"overlay\":{\"id\":\"1661\"}},\"id\":\"1657\",\"type\":\"BoxZoomTool\"},{\"attributes\":{\"data\":{\"x\":[1,2,3,4,5],\"y\":[6,7,2,4,5]},\"selected\":{\"id\":\"1706\"},\"selection_policy\":{\"id\":\"1707\"}},\"id\":\"1669\",\"type\":\"ColumnDataSource\"},{\"attributes\":{},\"id\":\"1652\",\"type\":\"BasicTicker\"},{\"attributes\":{\"text\":\"\"},\"id\":\"1700\",\"type\":\"Title\"},{\"attributes\":{},\"id\":\"1641\",\"type\":\"DataRange1d\"},{\"attributes\":{},\"id\":\"1643\",\"type\":\"LinearScale\"},{\"attributes\":{\"axis\":{\"id\":\"1651\"},\"dimension\":1,\"ticker\":null},\"id\":\"1654\",\"type\":\"Grid\"},{\"attributes\":{},\"id\":\"1659\",\"type\":\"ResetTool\"}],\"root_ids\":[\"1638\"]},\"title\":\"Bokeh Application\",\"version\":\"2.1.0\"}};\n",
       "  var render_items = [{\"docid\":\"e22e846c-6fc7-47e5-8037-63a9224e2dbd\",\"root_ids\":[\"1638\"],\"roots\":{\"1638\":\"478dc4ae-6efd-4466-8047-b26c514b017e\"}}];\n",
       "  root.Bokeh.embed.embed_items_notebook(docs_json, render_items);\n",
       "\n",
       "  }\n",
       "  if (root.Bokeh !== undefined) {\n",
       "    embed_document(root);\n",
       "  } else {\n",
       "    var attempts = 0;\n",
       "    var timer = setInterval(function(root) {\n",
       "      if (root.Bokeh !== undefined) {\n",
       "        clearInterval(timer);\n",
       "        embed_document(root);\n",
       "      } else {\n",
       "        attempts++;\n",
       "        if (attempts > 100) {\n",
       "          clearInterval(timer);\n",
       "          console.log(\"Bokeh: ERROR: Unable to run BokehJS code because BokehJS library is missing\");\n",
       "        }\n",
       "      }\n",
       "    }, 10, root)\n",
       "  }\n",
       "})(window);"
      ],
      "application/vnd.bokehjs_exec.v0+json": ""
     },
     "metadata": {
      "application/vnd.bokehjs_exec.v0+json": {
       "id": "1638"
      }
     },
     "output_type": "display_data"
    }
   ],
   "source": [
    "from bokeh.plotting import figure, output_file, show\n",
    "\n",
    "# Outuput\n",
    "output_file(\"Bokeh-Grafico-Circulos.html\")\n",
    "\n",
    "p = figure(plot_width = 400, plot_height = 400)\n",
    "\n",
    "# Adicionando círculos ao gráfico\n",
    "p.circle([1, 2, 3, 4, 5], [6, 7, 2, 4, 5], size = 20, color = \"navy\", alpha = 0.5)\n",
    "\n",
    "# Mostrando o resultado\n",
    "show(p)"
   ]
  },
  {
   "cell_type": "markdown",
   "metadata": {},
   "source": [
    "## Gráfico com Dados Geofísicos"
   ]
  },
  {
   "cell_type": "code",
   "execution_count": 10,
   "metadata": {},
   "outputs": [
    {
     "data": {
      "text/html": [
       "\n",
       "\n",
       "\n",
       "\n",
       "\n",
       "\n",
       "  <div class=\"bk-root\" id=\"7683c2a0-3cb2-46f3-9d65-0ed15eedf2cb\" data-root-id=\"1881\"></div>\n"
      ]
     },
     "metadata": {},
     "output_type": "display_data"
    },
    {
     "data": {
      "application/javascript": [
       "(function(root) {\n",
       "  function embed_document(root) {\n",
       "    \n",
       "  var docs_json = {\"2be5be99-bffa-43a8-8dc3-3c74dfe7662a\":{\"roots\":{\"references\":[{\"attributes\":{\"below\":[{\"id\":\"1890\"}],\"center\":[{\"id\":\"1893\"},{\"id\":\"1897\"}],\"left\":[{\"id\":\"1894\"}],\"renderers\":[{\"id\":\"1915\"}],\"title\":{\"id\":\"1952\"},\"toolbar\":{\"id\":\"1905\"},\"x_range\":{\"id\":\"1882\"},\"x_scale\":{\"id\":\"1886\"},\"y_range\":{\"id\":\"1884\"},\"y_scale\":{\"id\":\"1888\"}},\"id\":\"1881\",\"subtype\":\"Figure\",\"type\":\"Plot\"},{\"attributes\":{\"axis\":{\"id\":\"1890\"},\"ticker\":null},\"id\":\"1893\",\"type\":\"Grid\"},{\"attributes\":{},\"id\":\"1895\",\"type\":\"BasicTicker\"},{\"attributes\":{},\"id\":\"1901\",\"type\":\"SaveTool\"},{\"attributes\":{\"axis\":{\"id\":\"1894\"},\"dimension\":1,\"ticker\":null},\"id\":\"1897\",\"type\":\"Grid\"},{\"attributes\":{\"formatter\":{\"id\":\"1956\"},\"ticker\":{\"id\":\"1891\"}},\"id\":\"1890\",\"type\":\"LinearAxis\"},{\"attributes\":{\"fill_alpha\":{\"value\":0.9},\"fill_color\":{\"value\":\"#1f77b4\"},\"line_alpha\":{\"value\":0.9},\"line_color\":{\"value\":\"#1f77b4\"},\"x\":{\"field\":\"x\"},\"y\":{\"field\":\"y\"}},\"id\":\"1913\",\"type\":\"Circle\"},{\"attributes\":{},\"id\":\"1902\",\"type\":\"ResetTool\"},{\"attributes\":{\"geojson\":\"{\\\"type\\\":\\\"FeatureCollection\\\",\\\"features\\\":[{\\\"type\\\":\\\"Feature\\\",\\\"id\\\":\\\"463098\\\",\\\"geometry\\\":{\\\"type\\\":\\\"Point\\\",\\\"coordinates\\\":[-2.1208465099334717,51.4613151550293]},\\\"properties\\\":{\\\"OrganisationCode\\\":\\\"Q64\\\",\\\"OrganisationType\\\":\\\"Area Team\\\",\\\"SubType\\\":\\\"UNKNOWN\\\",\\\"OrganisationStatus\\\":\\\"Visible\\\",\\\"IsPimsManaged\\\":\\\"True\\\",\\\"OrganisationName\\\":\\\"Bath, Gloucestershire, Swindon And Wiltshire Area Team\\\",\\\"Address1\\\":\\\"1st Floor\\\",\\\"Address2\\\":\\\"Bewley House\\\",\\\"Address3\\\":\\\"Marshfield Road\\\",\\\"City\\\":\\\"Chippenham\\\",\\\"County\\\":\\\"Wiltshire\\\",\\\"Postcode\\\":\\\"SN15 1JW\\\",\\\"Phone\\\":\\\"0113 8251 500\\\",\\\"Email\\\":\\\"england.contactus@nhs.net\\\",\\\"Website\\\":\\\"http://www.england.nhs.uk/south/south/bgsw-at/\\\"}},{\\\"type\\\":\\\"Feature\\\",\\\"id\\\":\\\"463099\\\",\\\"geometry\\\":{\\\"type\\\":\\\"Point\\\",\\\"coordinates\\\":[-2.5929524898529053,51.459877014160156]},\\\"properties\\\":{\\\"OrganisationCode\\\":\\\"Q65\\\",\\\"OrganisationType\\\":\\\"Area Team\\\",\\\"SubType\\\":\\\"UNKNOWN\\\",\\\"OrganisationStatus\\\":\\\"Visible\\\",\\\"IsPimsManaged\\\":\\\"True\\\",\\\"OrganisationName\\\":\\\"Bristol, North Somerset, Somerset And South Gloucestershire Area Team\\\",\\\"Address1\\\":\\\"South Plaza\\\",\\\"Address3\\\":\\\"Marlborough Street\\\",\\\"City\\\":\\\"Bristol\\\",\\\"County\\\":\\\"Somerset\\\",\\\"Postcode\\\":\\\"BS1 3NX\\\",\\\"Phone\\\":\\\"0117 976 6600\\\",\\\"Email\\\":\\\"england.contactus@nhs.net\\\",\\\"Website\\\":\\\"http://www.england.nhs.uk/south/south/bnsssg-at/\\\"}},{\\\"type\\\":\\\"Feature\\\",\\\"id\\\":\\\"463100\\\",\\\"geometry\\\":{\\\"type\\\":\\\"Point\\\",\\\"coordinates\\\":[-4.232546806335449,50.42112731933594]},\\\"properties\\\":{\\\"OrganisationCode\\\":\\\"Q66\\\",\\\"OrganisationType\\\":\\\"Area Team\\\",\\\"SubType\\\":\\\"UNKNOWN\\\",\\\"OrganisationStatus\\\":\\\"Visible\\\",\\\"IsPimsManaged\\\":\\\"True\\\",\\\"OrganisationName\\\":\\\"Devon, Cornwall And Isles Of Scilly Area Team\\\",\\\"Address1\\\":\\\"Peninsula House\\\",\\\"Address2\\\":\\\"Kingsmill Road\\\",\\\"Address3\\\":\\\"Tamar View Industrial Estate\\\",\\\"City\\\":\\\"Cornwall\\\",\\\"County\\\":\\\"Cornwall\\\",\\\"Postcode\\\":\\\"PL12 6LE\\\",\\\"Phone\\\":\\\"01752 679250\\\",\\\"Email\\\":\\\"england.contactus@nhs.net\\\",\\\"Website\\\":\\\"http://www.england.nhs.uk/south/south/dcis-at/\\\"}},{\\\"type\\\":\\\"Feature\\\",\\\"id\\\":\\\"463101\\\",\\\"geometry\\\":{\\\"type\\\":\\\"Point\\\",\\\"coordinates\\\":[0.27698493003845215,51.193748474121094]},\\\"properties\\\":{\\\"OrganisationCode\\\":\\\"Q67\\\",\\\"OrganisationType\\\":\\\"Area Team\\\",\\\"SubType\\\":\\\"UNKNOWN\\\",\\\"OrganisationStatus\\\":\\\"Visible\\\",\\\"IsPimsManaged\\\":\\\"True\\\",\\\"OrganisationName\\\":\\\"Kent And Medway Area Team\\\",\\\"Address1\\\":\\\"Wharf House\\\",\\\"Address2\\\":\\\"Medway Wharf Road\\\",\\\"City\\\":\\\"Tonbridge\\\",\\\"County\\\":\\\"Kent\\\",\\\"Postcode\\\":\\\"TN9 1RE\\\",\\\"Phone\\\":\\\"01732 375200\\\",\\\"Email\\\":\\\"england.kentandmedwaybusinessoffice@nhs.net\\\",\\\"Website\\\":\\\"http://www.england.nhs.uk/south/south/km-at/\\\"}},{\\\"type\\\":\\\"Feature\\\",\\\"id\\\":\\\"463102\\\",\\\"geometry\\\":{\\\"type\\\":\\\"Point\\\",\\\"coordinates\\\":[-0.1647440642118454,51.170936584472656]},\\\"properties\\\":{\\\"OrganisationCode\\\":\\\"Q68\\\",\\\"OrganisationType\\\":\\\"Area Team\\\",\\\"SubType\\\":\\\"UNKNOWN\\\",\\\"OrganisationStatus\\\":\\\"Visible\\\",\\\"IsPimsManaged\\\":\\\"True\\\",\\\"OrganisationName\\\":\\\"Surrey And Sussex Area Team\\\",\\\"Address1\\\":\\\"York House\\\",\\\"Address2\\\":\\\"18-20 Massetts Road\\\",\\\"City\\\":\\\"Horley\\\",\\\"County\\\":\\\"Surrey\\\",\\\"Postcode\\\":\\\"RH6 7DE\\\",\\\"Phone\\\":\\\"01293 778899\\\",\\\"Email\\\":\\\"england.surreyandsussex-businessoffice@nhs.net\\\",\\\"Website\\\":\\\"http://www.england.nhs.uk/south/south/ss-at/\\\"}},{\\\"type\\\":\\\"Feature\\\",\\\"id\\\":\\\"463103\\\",\\\"geometry\\\":{\\\"type\\\":\\\"Point\\\",\\\"coordinates\\\":[-1.2079498767852783,51.72844696044922]},\\\"properties\\\":{\\\"OrganisationCode\\\":\\\"Q69\\\",\\\"OrganisationType\\\":\\\"Area Team\\\",\\\"SubType\\\":\\\"UNKNOWN\\\",\\\"OrganisationStatus\\\":\\\"Visible\\\",\\\"IsPimsManaged\\\":\\\"True\\\",\\\"OrganisationName\\\":\\\"Thames Valley Area Team\\\",\\\"Address1\\\":\\\"Jubilee House\\\",\\\"Address2\\\":\\\"5510 John Smith Drive\\\",\\\"Address3\\\":\\\"Oxford Business Park South\\\",\\\"City\\\":\\\"Cowley\\\",\\\"County\\\":\\\"Oxfordshire\\\",\\\"Postcode\\\":\\\"OX4 2LH\\\",\\\"Phone\\\":\\\"01865 963800\\\",\\\"Email\\\":\\\"england.contactus@nhs.net\\\",\\\"Website\\\":\\\"http://www.england.nhs.uk/south/south/tv-at/\\\"}},{\\\"type\\\":\\\"Feature\\\",\\\"id\\\":\\\"463104\\\",\\\"geometry\\\":{\\\"type\\\":\\\"Point\\\",\\\"coordinates\\\":[-1.4493359327316284,50.92325973510742]},\\\"properties\\\":{\\\"OrganisationCode\\\":\\\"Q70\\\",\\\"OrganisationType\\\":\\\"Area Team\\\",\\\"SubType\\\":\\\"UNKNOWN\\\",\\\"OrganisationStatus\\\":\\\"Visible\\\",\\\"IsPimsManaged\\\":\\\"True\\\",\\\"OrganisationName\\\":\\\"Wessex Area Team\\\",\\\"Address2\\\":\\\"Oakley Road\\\",\\\"City\\\":\\\"Southampton\\\",\\\"County\\\":\\\"Hampshire\\\",\\\"Postcode\\\":\\\"SO16 4GX\\\",\\\"Phone\\\":\\\"023 8029 6914\\\",\\\"Email\\\":\\\"england.wessexpatientexperience@nhs.net\\\",\\\"Website\\\":\\\"http://www.england.nhs.uk/south/south/w-at/\\\"}},{\\\"type\\\":\\\"Feature\\\",\\\"id\\\":\\\"463105\\\",\\\"geometry\\\":{\\\"type\\\":\\\"Point\\\",\\\"coordinates\\\":[-0.13727261126041412,51.49694061279297]},\\\"properties\\\":{\\\"OrganisationCode\\\":\\\"Q71\\\",\\\"OrganisationType\\\":\\\"Area Team\\\",\\\"SubType\\\":\\\"UNKNOWN\\\",\\\"OrganisationStatus\\\":\\\"Visible\\\",\\\"IsPimsManaged\\\":\\\"True\\\",\\\"OrganisationName\\\":\\\"London Area Team\\\",\\\"Address2\\\":\\\"2nd Floor, Southside\\\",\\\"Address3\\\":\\\"105 Victoria Street\\\",\\\"City\\\":\\\"London\\\",\\\"Postcode\\\":\\\"SW1E 6QT\\\",\\\"Phone\\\":\\\"0207 932 3700\\\",\\\"Email\\\":\\\"england.contactus@nhs.net\\\",\\\"Website\\\":\\\"http://www.england.nhs.uk/london/\\\"}},{\\\"type\\\":\\\"Feature\\\",\\\"id\\\":\\\"463120\\\",\\\"geometry\\\":{\\\"type\\\":\\\"Point\\\",\\\"coordinates\\\":[-2.5846381187438965,53.37392807006836]},\\\"properties\\\":{\\\"OrganisationCode\\\":\\\"Q44\\\",\\\"OrganisationType\\\":\\\"Area Team\\\",\\\"SubType\\\":\\\"UNKNOWN\\\",\\\"OrganisationStatus\\\":\\\"Visible\\\",\\\"IsPimsManaged\\\":\\\"True\\\",\\\"OrganisationName\\\":\\\"Cheshire, Warrington And Wirral Area Team\\\",\\\"Address1\\\":\\\"NHS Quayside (NHS North West)\\\",\\\"Address2\\\":\\\"Wilderspool Park\\\",\\\"Address3\\\":\\\"Greensall Avenue\\\",\\\"City\\\":\\\"Warrington\\\",\\\"County\\\":\\\"Cheshire\\\",\\\"Postcode\\\":\\\"WA4 6HL\\\",\\\"Phone\\\":\\\"01925 406000\\\",\\\"Email\\\":\\\"england.contactus@nhs.net\\\",\\\"Website\\\":\\\"http://www.england.nhs.uk/north/north/cww-at/\\\"}},{\\\"type\\\":\\\"Feature\\\",\\\"id\\\":\\\"463121\\\",\\\"geometry\\\":{\\\"type\\\":\\\"Point\\\",\\\"coordinates\\\":[-1.5323498249053955,53.79779815673828]},\\\"properties\\\":{\\\"OrganisationCode\\\":\\\"Q45\\\",\\\"OrganisationType\\\":\\\"Area Team\\\",\\\"SubType\\\":\\\"UNKNOWN\\\",\\\"OrganisationStatus\\\":\\\"Visible\\\",\\\"IsPimsManaged\\\":\\\"True\\\",\\\"OrganisationName\\\":\\\"Durham, Darlington And Tees Area Team\\\",\\\"Address1\\\":\\\"The Old Exchange\\\",\\\"Address2\\\":\\\"Barnard Street\\\",\\\"City\\\":\\\"Darlington\\\",\\\"County\\\":\\\"Durham\\\",\\\"Postcode\\\":\\\"LS2 7UE\\\",\\\"Phone\\\":\\\"0113 825 1609\\\",\\\"Email\\\":\\\"england.ddt-at-generalenquiries@nhs.net\\\",\\\"Website\\\":\\\"http://www.england.nhs.uk/north/north/ddt-at/\\\"}},{\\\"type\\\":\\\"Feature\\\",\\\"id\\\":\\\"463122\\\",\\\"geometry\\\":{\\\"type\\\":\\\"Point\\\",\\\"coordinates\\\":[-2.233488082885742,53.47760009765625]},\\\"properties\\\":{\\\"OrganisationCode\\\":\\\"Q46\\\",\\\"OrganisationType\\\":\\\"Area Team\\\",\\\"SubType\\\":\\\"UNKNOWN\\\",\\\"OrganisationStatus\\\":\\\"Visible\\\",\\\"IsPimsManaged\\\":\\\"True\\\",\\\"OrganisationName\\\":\\\"Greater Manchester Area Team\\\",\\\"Address1\\\":\\\"4th Floor\\\",\\\"Address2\\\":\\\"3 Picadilly Place\\\",\\\"Address3\\\":\\\"London Road\\\",\\\"City\\\":\\\"Manchester\\\",\\\"County\\\":\\\"Lancashire\\\",\\\"Postcode\\\":\\\"M1 3BN\\\",\\\"Phone\\\":\\\"0845 0500194\\\",\\\"Email\\\":\\\"nhse.gmat@nhs.net\\\",\\\"Website\\\":\\\"http://www.england.nhs.uk/north/north/gm-at/\\\"}},{\\\"type\\\":\\\"Feature\\\",\\\"id\\\":\\\"463123\\\",\\\"geometry\\\":{\\\"type\\\":\\\"Point\\\",\\\"coordinates\\\":[-2.705566644668579,53.77775573730469]},\\\"properties\\\":{\\\"OrganisationCode\\\":\\\"Q47\\\",\\\"OrganisationType\\\":\\\"Area Team\\\",\\\"SubType\\\":\\\"UNKNOWN\\\",\\\"OrganisationStatus\\\":\\\"Visible\\\",\\\"IsPimsManaged\\\":\\\"True\\\",\\\"OrganisationName\\\":\\\"Lancashire Area Team\\\",\\\"Address1\\\":\\\"Second Floor, Preston Business Centre\\\",\\\"Address2\\\":\\\"Watling Street Road\\\",\\\"Address3\\\":\\\"Fulwood\\\",\\\"City\\\":\\\"Preston\\\",\\\"County\\\":\\\"Lancashire\\\",\\\"Postcode\\\":\\\"PR2 8DY\\\",\\\"Phone\\\":\\\"01772 420150\\\",\\\"Email\\\":\\\"england.contactus@nhs.net\\\",\\\"Website\\\":\\\"http://www.england.nhs.uk/north/north/lanc-at/\\\"}},{\\\"type\\\":\\\"Feature\\\",\\\"id\\\":\\\"463124\\\",\\\"geometry\\\":{\\\"type\\\":\\\"Point\\\",\\\"coordinates\\\":[-2.9802029132843018,53.38481903076172]},\\\"properties\\\":{\\\"OrganisationCode\\\":\\\"Q48\\\",\\\"OrganisationType\\\":\\\"Area Team\\\",\\\"SubType\\\":\\\"UNKNOWN\\\",\\\"OrganisationStatus\\\":\\\"Visible\\\",\\\"IsPimsManaged\\\":\\\"True\\\",\\\"OrganisationName\\\":\\\"Merseyside Area Team\\\",\\\"Address1\\\":\\\"Regatta Place\\\",\\\"Address2\\\":\\\"Summers Road\\\",\\\"Address3\\\":\\\"Brunswick Business Park\\\",\\\"City\\\":\\\"Liverpool\\\",\\\"County\\\":\\\"Merseyside\\\",\\\"Postcode\\\":\\\"L3 4BL\\\",\\\"Phone\\\":\\\"0151 285 4777\\\",\\\"Email\\\":\\\"england.contactus@nhs.net\\\",\\\"Website\\\":\\\"http://www.england.nhs.uk/north/north/mers-at/\\\"}},{\\\"type\\\":\\\"Feature\\\",\\\"id\\\":\\\"463125\\\",\\\"geometry\\\":{\\\"type\\\":\\\"Point\\\",\\\"coordinates\\\":[-1.7141016721725464,54.96938705444336]},\\\"properties\\\":{\\\"OrganisationCode\\\":\\\"Q49\\\",\\\"OrganisationType\\\":\\\"Area Team\\\",\\\"SubType\\\":\\\"UNKNOWN\\\",\\\"OrganisationStatus\\\":\\\"Visible\\\",\\\"IsPimsManaged\\\":\\\"True\\\",\\\"OrganisationName\\\":\\\"Cumbria, Northumberland, Tyne And Wear Area Team\\\",\\\"Address1\\\":\\\"Waterfront\\\",\\\"Address2\\\":\\\"4 Goldcrest Way\\\",\\\"Address3\\\":\\\"Newburn\\\",\\\"City\\\":\\\"Newcastle Upon Tyne\\\",\\\"County\\\":\\\"Tyne and Wear\\\",\\\"Postcode\\\":\\\"NE15 8NY\\\",\\\"Phone\\\":\\\"01912 106400\\\",\\\"Email\\\":\\\"england.contactus@nhs.net\\\",\\\"Website\\\":\\\"http://www.england.nhs.uk/north/north/cntw-at/\\\"}},{\\\"type\\\":\\\"Feature\\\",\\\"id\\\":\\\"463126\\\",\\\"geometry\\\":{\\\"type\\\":\\\"Point\\\",\\\"coordinates\\\":[-1.0497655868530273,53.989986419677734]},\\\"properties\\\":{\\\"OrganisationCode\\\":\\\"Q50\\\",\\\"OrganisationType\\\":\\\"Area Team\\\",\\\"SubType\\\":\\\"UNKNOWN\\\",\\\"OrganisationStatus\\\":\\\"Visible\\\",\\\"IsPimsManaged\\\":\\\"True\\\",\\\"OrganisationName\\\":\\\"North Yorkshire And Humber Area Team\\\",\\\"Address1\\\":\\\"Unit 3\\\",\\\"Address2\\\":\\\"Alpha Court\\\",\\\"Address3\\\":\\\"Monks Cross\\\",\\\"City\\\":\\\"York\\\",\\\"County\\\":\\\"North Yorkshire\\\",\\\"Postcode\\\":\\\"YO32 9WN\\\",\\\"Phone\\\":\\\"0113 825 1845\\\",\\\"Email\\\":\\\"england.contactus@nhs.net\\\",\\\"Website\\\":\\\"http://www.england.nhs.uk/north/north/nyh-at/\\\"}},{\\\"type\\\":\\\"Feature\\\",\\\"id\\\":\\\"463127\\\",\\\"geometry\\\":{\\\"type\\\":\\\"Point\\\",\\\"coordinates\\\":[-1.2550956010818481,53.42157745361328]},\\\"properties\\\":{\\\"OrganisationCode\\\":\\\"Q51\\\",\\\"OrganisationType\\\":\\\"Area Team\\\",\\\"SubType\\\":\\\"UNKNOWN\\\",\\\"OrganisationStatus\\\":\\\"Visible\\\",\\\"IsPimsManaged\\\":\\\"True\\\",\\\"OrganisationName\\\":\\\"South Yorkshire And Bassetlaw Area Team\\\",\\\"Address1\\\":\\\"Oak House\\\",\\\"Address2\\\":\\\"Moorhead Way\\\",\\\"Address3\\\":\\\"Bramley\\\",\\\"City\\\":\\\"Rotherham\\\",\\\"County\\\":\\\"South Yorkshire\\\",\\\"Postcode\\\":\\\"S66 1YY\\\",\\\"Phone\\\":\\\"01709 302000\\\",\\\"Email\\\":\\\"england.syb-businessoffice@nhs.net\\\",\\\"Website\\\":\\\"http://www.england.nhs.uk/north/north/syb-at/\\\"}},{\\\"type\\\":\\\"Feature\\\",\\\"id\\\":\\\"463128\\\",\\\"geometry\\\":{\\\"type\\\":\\\"Point\\\",\\\"coordinates\\\":[-1.544582486152649,53.78975296020508]},\\\"properties\\\":{\\\"OrganisationCode\\\":\\\"Q52\\\",\\\"OrganisationType\\\":\\\"Area Team\\\",\\\"SubType\\\":\\\"UNKNOWN\\\",\\\"OrganisationStatus\\\":\\\"Visible\\\",\\\"IsPimsManaged\\\":\\\"True\\\",\\\"OrganisationName\\\":\\\"West Yorkshire Area Team\\\",\\\"Address1\\\":\\\"3 Leeds City Office Park\\\",\\\"Address2\\\":\\\"Meadow Lane\\\",\\\"City\\\":\\\"Leeds\\\",\\\"County\\\":\\\"West Yorkshire\\\",\\\"Postcode\\\":\\\"LS11 5BD\\\",\\\"Phone\\\":\\\"0113 8252700\\\",\\\"Email\\\":\\\"reception.westyorkshireareateam@nhs.net\\\",\\\"Website\\\":\\\"http://www.england.nhs.uk/north/north/wy-at/\\\"}},{\\\"type\\\":\\\"Feature\\\",\\\"id\\\":\\\"463129\\\",\\\"geometry\\\":{\\\"type\\\":\\\"Point\\\",\\\"coordinates\\\":[-2.1813161373138428,52.18680953979492]},\\\"properties\\\":{\\\"OrganisationCode\\\":\\\"Q53\\\",\\\"OrganisationType\\\":\\\"Area Team\\\",\\\"SubType\\\":\\\"UNKNOWN\\\",\\\"OrganisationStatus\\\":\\\"Visible\\\",\\\"IsPimsManaged\\\":\\\"True\\\",\\\"OrganisationName\\\":\\\"Arden, Herefordshire And Worcestershire Area Team\\\",\\\"Address2\\\":\\\"Wildwood\\\",\\\"Address3\\\":\\\"Wildwood Drive\\\",\\\"City\\\":\\\"Worcester\\\",\\\"County\\\":\\\"Worcestershire\\\",\\\"Postcode\\\":\\\"WR5 2LG\\\",\\\"Phone\\\":\\\"0113 825 3099\\\",\\\"Email\\\":\\\"england.contactus@nhs.net\\\",\\\"Website\\\":\\\"http://www.england.nhs.uk/mids-east/mids-east-3/ahw-at/\\\"}},{\\\"type\\\":\\\"Feature\\\",\\\"id\\\":\\\"463130\\\",\\\"geometry\\\":{\\\"type\\\":\\\"Point\\\",\\\"coordinates\\\":[-1.9351675510406494,52.471920013427734]},\\\"properties\\\":{\\\"OrganisationCode\\\":\\\"Q54\\\",\\\"OrganisationType\\\":\\\"Area Team\\\",\\\"SubType\\\":\\\"UNKNOWN\\\",\\\"OrganisationStatus\\\":\\\"Visible\\\",\\\"IsPimsManaged\\\":\\\"True\\\",\\\"OrganisationName\\\":\\\"Birmingham And The Black Country Area Team\\\",\\\"Address1\\\":\\\"St Chads Court\\\",\\\"Address2\\\":\\\"213 Hagley Road\\\",\\\"Address3\\\":\\\"Edgbaston\\\",\\\"City\\\":\\\"Birmingham\\\",\\\"County\\\":\\\"West Midlands\\\",\\\"Postcode\\\":\\\"B16 9RG\\\",\\\"Phone\\\":\\\"0121 695 2222\\\",\\\"Email\\\":\\\"england.contactus@nhs.net\\\",\\\"Website\\\":\\\"http://www.england.nhs.uk/mids-east/mids-east-3/bsbc-at/\\\"}},{\\\"type\\\":\\\"Feature\\\",\\\"id\\\":\\\"463131\\\",\\\"geometry\\\":{\\\"type\\\":\\\"Point\\\",\\\"coordinates\\\":[-1.1435775756835938,53.12958526611328]},\\\"properties\\\":{\\\"OrganisationCode\\\":\\\"Q55\\\",\\\"OrganisationType\\\":\\\"Area Team\\\",\\\"SubType\\\":\\\"UNKNOWN\\\",\\\"OrganisationStatus\\\":\\\"Visible\\\",\\\"IsPimsManaged\\\":\\\"True\\\",\\\"OrganisationName\\\":\\\"Derbyshire And Nottinghamshire Area Team\\\",\\\"Address1\\\":\\\"Birch House\\\",\\\"Address2\\\":\\\"Ransom Wood Business Park\\\",\\\"Address3\\\":\\\"Southwell Road West, Rainworth\\\",\\\"City\\\":\\\"Nottingham\\\",\\\"County\\\":\\\"Nottinghamshire\\\",\\\"Postcode\\\":\\\"NG21 0HJ\\\",\\\"Phone\\\":\\\"0300 300 1234\\\",\\\"Email\\\":\\\"england.contactus@nhs.net\\\",\\\"Website\\\":\\\"http://www.england.nhs.uk/mids-east/mids-east-3/dn-at/\\\"}},{\\\"type\\\":\\\"Feature\\\",\\\"id\\\":\\\"463132\\\",\\\"geometry\\\":{\\\"type\\\":\\\"Point\\\",\\\"coordinates\\\":[0.19126050174236298,52.18547821044922]},\\\"properties\\\":{\\\"OrganisationCode\\\":\\\"Q56\\\",\\\"OrganisationType\\\":\\\"Area Team\\\",\\\"SubType\\\":\\\"UNKNOWN\\\",\\\"OrganisationStatus\\\":\\\"Visible\\\",\\\"IsPimsManaged\\\":\\\"True\\\",\\\"OrganisationName\\\":\\\"East Anglia Area Team\\\",\\\"Address1\\\":\\\"CPC1\\\",\\\"Address2\\\":\\\"Capital Business Park\\\",\\\"Address3\\\":\\\"Fulbourn\\\",\\\"City\\\":\\\"Cambridge\\\",\\\"County\\\":\\\"Cambridgeshire\\\",\\\"Postcode\\\":\\\"CB21 5XE\\\",\\\"Phone\\\":\\\"01223 708700\\\",\\\"Email\\\":\\\"england.contactus@nhs.net\\\",\\\"Website\\\":\\\"http://www.england.nhs.uk/mids-east/mids-east-3/ea-at/\\\"}},{\\\"type\\\":\\\"Feature\\\",\\\"id\\\":\\\"463133\\\",\\\"geometry\\\":{\\\"type\\\":\\\"Point\\\",\\\"coordinates\\\":[0.5076583027839661,51.74932098388672]},\\\"properties\\\":{\\\"OrganisationCode\\\":\\\"Q57\\\",\\\"OrganisationType\\\":\\\"Area Team\\\",\\\"SubType\\\":\\\"UNKNOWN\\\",\\\"OrganisationStatus\\\":\\\"Visible\\\",\\\"IsPimsManaged\\\":\\\"True\\\",\\\"OrganisationName\\\":\\\"Essex Area Team\\\",\\\"Address1\\\":\\\"Swift House\\\",\\\"Address2\\\":\\\"Hedgerows Business Park\\\",\\\"Address3\\\":\\\"Colchester Road, Springfield\\\",\\\"City\\\":\\\"Chelmsford\\\",\\\"County\\\":\\\"Essex\\\",\\\"Postcode\\\":\\\"CM2 5PF\\\",\\\"Phone\\\":\\\"01245 398770\\\",\\\"Email\\\":\\\"england.contactus@nhs.net\\\",\\\"Website\\\":\\\"http://www.england.nhs.uk/mids-east/mids-east-3/essex-at/\\\"}},{\\\"type\\\":\\\"Feature\\\",\\\"id\\\":\\\"463134\\\",\\\"geometry\\\":{\\\"type\\\":\\\"Point\\\",\\\"coordinates\\\":[-0.20884820818901062,51.8019905090332]},\\\"properties\\\":{\\\"OrganisationCode\\\":\\\"Q58\\\",\\\"OrganisationType\\\":\\\"Area Team\\\",\\\"SubType\\\":\\\"UNKNOWN\\\",\\\"OrganisationStatus\\\":\\\"Visible\\\",\\\"IsPimsManaged\\\":\\\"True\\\",\\\"OrganisationName\\\":\\\"Hertfordshire And The South Midlands Area Team\\\",\\\"Address1\\\":\\\"Charter House\\\",\\\"Address2\\\":\\\"Parkway\\\",\\\"City\\\":\\\"Welwyn Garden City\\\",\\\"County\\\":\\\"Hertfordshire\\\",\\\"Postcode\\\":\\\"AL8 6JL\\\",\\\"Phone\\\":\\\"01707 390855\\\",\\\"Email\\\":\\\"england.contactus@nhs.net\\\",\\\"Website\\\":\\\"http://www.england.nhs.uk/mids-east/mids-east-3/hsm-at/\\\"}},{\\\"type\\\":\\\"Feature\\\",\\\"id\\\":\\\"463135\\\",\\\"geometry\\\":{\\\"type\\\":\\\"Point\\\",\\\"coordinates\\\":[-1.189500093460083,52.593223571777344]},\\\"properties\\\":{\\\"OrganisationCode\\\":\\\"Q59\\\",\\\"OrganisationType\\\":\\\"Area Team\\\",\\\"SubType\\\":\\\"UNKNOWN\\\",\\\"OrganisationStatus\\\":\\\"Visible\\\",\\\"IsPimsManaged\\\":\\\"True\\\",\\\"OrganisationName\\\":\\\"Leicestershire And Lincolnshire Area Team\\\",\\\"Address1\\\":\\\"Fosse House\\\",\\\"Address2\\\":\\\"6 Smith Way\\\",\\\"Address3\\\":\\\"Grove Park, Enderby\\\",\\\"City\\\":\\\"Leicester\\\",\\\"County\\\":\\\"Leicestershire\\\",\\\"Postcode\\\":\\\"LE19 1SX\\\",\\\"Phone\\\":\\\"0116 295 7500\\\",\\\"Email\\\":\\\"england.leicsandlincsareateam@nhs.net\\\",\\\"Website\\\":\\\"http://www.england.nhs.uk/mids-east/mids-east-3/ll-at/\\\"}},{\\\"type\\\":\\\"Feature\\\",\\\"id\\\":\\\"463136\\\",\\\"geometry\\\":{\\\"type\\\":\\\"Point\\\",\\\"coordinates\\\":[-1.9140186309814453,52.7487907409668]},\\\"properties\\\":{\\\"OrganisationCode\\\":\\\"Q60\\\",\\\"OrganisationType\\\":\\\"Area Team\\\",\\\"SubType\\\":\\\"UNKNOWN\\\",\\\"OrganisationStatus\\\":\\\"Visible\\\",\\\"IsPimsManaged\\\":\\\"True\\\",\\\"OrganisationName\\\":\\\"Shropshire And Staffordshire Area Team\\\",\\\"Address1\\\":\\\"Anglesey House,\\\",\\\"Address2\\\":\\\"Wheelhouse Road,\\\",\\\"Address3\\\":\\\"Towers Plaza,\\\",\\\"City\\\":\\\"Rugeley,\\\",\\\"County\\\":\\\"Staffordshire\\\",\\\"Postcode\\\":\\\"WS15 1UL\\\",\\\"Phone\\\":\\\"0300 7900233\\\",\\\"Email\\\":\\\"england.contactus@nhs.net\\\",\\\"Website\\\":\\\"http://www.england.nhs.uk/mids-east/mids-east-3/ss-at/\\\"}}]}\\n\",\"selected\":{\"id\":\"1958\"},\"selection_policy\":{\"id\":\"1959\"}},\"id\":\"1880\",\"type\":\"GeoJSONDataSource\"},{\"attributes\":{\"source\":{\"id\":\"1880\"}},\"id\":\"1916\",\"type\":\"CDSView\"},{\"attributes\":{},\"id\":\"1898\",\"type\":\"PanTool\"},{\"attributes\":{},\"id\":\"1903\",\"type\":\"HelpTool\"},{\"attributes\":{},\"id\":\"1891\",\"type\":\"BasicTicker\"},{\"attributes\":{},\"id\":\"1959\",\"type\":\"UnionRenderers\"},{\"attributes\":{},\"id\":\"1954\",\"type\":\"BasicTickFormatter\"},{\"attributes\":{\"bottom_units\":\"screen\",\"fill_alpha\":0.5,\"fill_color\":\"lightgrey\",\"left_units\":\"screen\",\"level\":\"overlay\",\"line_alpha\":1.0,\"line_color\":\"black\",\"line_dash\":[4,4],\"line_width\":2,\"right_units\":\"screen\",\"top_units\":\"screen\"},\"id\":\"1904\",\"type\":\"BoxAnnotation\"},{\"attributes\":{},\"id\":\"1888\",\"type\":\"LinearScale\"},{\"attributes\":{},\"id\":\"1956\",\"type\":\"BasicTickFormatter\"},{\"attributes\":{},\"id\":\"1882\",\"type\":\"DataRange1d\"},{\"attributes\":{},\"id\":\"1899\",\"type\":\"WheelZoomTool\"},{\"attributes\":{},\"id\":\"1886\",\"type\":\"LinearScale\"},{\"attributes\":{},\"id\":\"1884\",\"type\":\"DataRange1d\"},{\"attributes\":{\"fill_alpha\":{\"value\":0.1},\"fill_color\":{\"value\":\"#1f77b4\"},\"line_alpha\":{\"value\":0.1},\"line_color\":{\"value\":\"#1f77b4\"},\"x\":{\"field\":\"x\"},\"y\":{\"field\":\"y\"}},\"id\":\"1914\",\"type\":\"Circle\"},{\"attributes\":{},\"id\":\"1958\",\"type\":\"Selection\"},{\"attributes\":{\"data_source\":{\"id\":\"1880\"},\"glyph\":{\"id\":\"1913\"},\"hover_glyph\":null,\"muted_glyph\":null,\"nonselection_glyph\":{\"id\":\"1914\"},\"selection_glyph\":null,\"view\":{\"id\":\"1916\"}},\"id\":\"1915\",\"type\":\"GlyphRenderer\"},{\"attributes\":{\"text\":\"\"},\"id\":\"1952\",\"type\":\"Title\"},{\"attributes\":{\"overlay\":{\"id\":\"1904\"}},\"id\":\"1900\",\"type\":\"BoxZoomTool\"},{\"attributes\":{\"active_drag\":\"auto\",\"active_inspect\":\"auto\",\"active_multi\":null,\"active_scroll\":\"auto\",\"active_tap\":\"auto\",\"tools\":[{\"id\":\"1898\"},{\"id\":\"1899\"},{\"id\":\"1900\"},{\"id\":\"1901\"},{\"id\":\"1902\"},{\"id\":\"1903\"}]},\"id\":\"1905\",\"type\":\"Toolbar\"},{\"attributes\":{\"formatter\":{\"id\":\"1954\"},\"ticker\":{\"id\":\"1895\"}},\"id\":\"1894\",\"type\":\"LinearAxis\"}],\"root_ids\":[\"1881\"]},\"title\":\"Bokeh Application\",\"version\":\"2.1.0\"}};\n",
       "  var render_items = [{\"docid\":\"2be5be99-bffa-43a8-8dc3-3c74dfe7662a\",\"root_ids\":[\"1881\"],\"roots\":{\"1881\":\"7683c2a0-3cb2-46f3-9d65-0ed15eedf2cb\"}}];\n",
       "  root.Bokeh.embed.embed_items_notebook(docs_json, render_items);\n",
       "\n",
       "  }\n",
       "  if (root.Bokeh !== undefined) {\n",
       "    embed_document(root);\n",
       "  } else {\n",
       "    var attempts = 0;\n",
       "    var timer = setInterval(function(root) {\n",
       "      if (root.Bokeh !== undefined) {\n",
       "        clearInterval(timer);\n",
       "        embed_document(root);\n",
       "      } else {\n",
       "        attempts++;\n",
       "        if (attempts > 100) {\n",
       "          clearInterval(timer);\n",
       "          console.log(\"Bokeh: ERROR: Unable to run BokehJS code because BokehJS library is missing\");\n",
       "        }\n",
       "      }\n",
       "    }, 10, root)\n",
       "  }\n",
       "})(window);"
      ],
      "application/vnd.bokehjs_exec.v0+json": ""
     },
     "metadata": {
      "application/vnd.bokehjs_exec.v0+json": {
       "id": "1881"
      }
     },
     "output_type": "display_data"
    }
   ],
   "source": [
    "# Geojson\n",
    "from bokeh.io import output_file, show\n",
    "from bokeh.models import GeoJSONDataSource\n",
    "from bokeh.plotting import figure\n",
    "from bokeh.sampledata.sample_geojson import geojson\n",
    "\n",
    "geo_source = GeoJSONDataSource(geojson=geojson)\n",
    "\n",
    "p = figure()\n",
    "p.circle(x = 'x', y = 'y', alpha = 0.9, source = geo_source)\n",
    "output_file(\"Bokeh-GeoJSON.html\")\n",
    "show(p)"
   ]
  },
  {
   "cell_type": "code",
   "execution_count": 11,
   "metadata": {},
   "outputs": [
    {
     "name": "stdout",
     "output_type": "stream",
     "text": [
      "Creating /home/valeria.silva/.bokeh directory\n",
      "Creating /home/valeria.silva/.bokeh/data directory\n",
      "Using data directory: /home/valeria.silva/.bokeh/data\n",
      "Downloading: CGM.csv (1589982 bytes)\n",
      "   1589982 [100.00%]\n",
      "Downloading: US_Counties.zip (3171836 bytes)\n",
      "   3171836 [100.00%]\n",
      "Unpacking: US_Counties.csv\n",
      "Downloading: us_cities.json (713565 bytes)\n",
      "    713565 [100.00%]\n",
      "Downloading: unemployment09.csv (253301 bytes)\n",
      "    253301 [100.00%]\n",
      "Downloading: AAPL.csv (166698 bytes)\n",
      "    166698 [100.00%]\n",
      "Downloading: FB.csv (9706 bytes)\n",
      "      9706 [100.00%]\n",
      "Downloading: GOOG.csv (113894 bytes)\n",
      "    113894 [100.00%]\n",
      "Downloading: IBM.csv (165625 bytes)\n",
      "    165625 [100.00%]\n",
      "Downloading: MSFT.csv (161614 bytes)\n",
      "    161614 [100.00%]\n",
      "Downloading: WPP2012_SA_DB03_POPULATION_QUINQUENNIAL.zip (4816256 bytes)\n",
      "   4816256 [100.00%]\n",
      "Unpacking: WPP2012_SA_DB03_POPULATION_QUINQUENNIAL.csv\n",
      "Downloading: gapminder_fertility.csv (64346 bytes)\n",
      "     64346 [100.00%]\n",
      "Downloading: gapminder_population.csv (94509 bytes)\n",
      "     94509 [100.00%]\n",
      "Downloading: gapminder_life_expectancy.csv (73243 bytes)\n",
      "     73243 [100.00%]\n",
      "Downloading: gapminder_regions.csv (7781 bytes)\n",
      "      7781 [100.00%]\n",
      "Downloading: world_cities.zip (645274 bytes)\n",
      "    645274 [100.00%]\n",
      "Unpacking: world_cities.csv\n",
      "Downloading: airports.json (6373 bytes)\n",
      "      6373 [100.00%]\n",
      "Downloading: movies.db.zip (5053420 bytes)\n",
      "   5053420 [100.00%]\n",
      "Unpacking: movies.db\n",
      "Downloading: airports.csv (203190 bytes)\n",
      "    203190 [100.00%]\n",
      "Downloading: routes.csv (377280 bytes)\n",
      "    377280 [100.00%]\n",
      "Downloading: haarcascade_frontalface_default.xml (930127 bytes)\n",
      "    930127 [100.00%]\n"
     ]
    }
   ],
   "source": [
    "# Baixando o diretório de dados de exemplo do Bokeh\n",
    "bokeh.sampledata.download()"
   ]
  },
  {
   "cell_type": "code",
   "execution_count": 14,
   "metadata": {},
   "outputs": [
    {
     "ename": "AttributeError",
     "evalue": "'tuple' object has no attribute 'reverse'",
     "output_type": "error",
     "traceback": [
      "\u001b[0;31m---------------------------------------------------------------------------\u001b[0m",
      "\u001b[0;31mAttributeError\u001b[0m                            Traceback (most recent call last)",
      "\u001b[0;32m<ipython-input-14-1ca834987e53>\u001b[0m in \u001b[0;36m<module>\u001b[0;34m\u001b[0m\n\u001b[1;32m      6\u001b[0m \u001b[0;32mfrom\u001b[0m \u001b[0mbokeh\u001b[0m\u001b[0;34m.\u001b[0m\u001b[0msampledata\u001b[0m\u001b[0;34m.\u001b[0m\u001b[0munemployment\u001b[0m \u001b[0;32mimport\u001b[0m \u001b[0mdata\u001b[0m \u001b[0;32mas\u001b[0m \u001b[0munemployment\u001b[0m\u001b[0;34m\u001b[0m\u001b[0;34m\u001b[0m\u001b[0m\n\u001b[1;32m      7\u001b[0m \u001b[0;34m\u001b[0m\u001b[0m\n\u001b[0;32m----> 8\u001b[0;31m \u001b[0mpalette\u001b[0m\u001b[0;34m.\u001b[0m\u001b[0mreverse\u001b[0m\u001b[0;34m(\u001b[0m\u001b[0;34m)\u001b[0m\u001b[0;34m\u001b[0m\u001b[0;34m\u001b[0m\u001b[0m\n\u001b[0m\u001b[1;32m      9\u001b[0m \u001b[0;34m\u001b[0m\u001b[0m\n\u001b[1;32m     10\u001b[0m \u001b[0mcounties\u001b[0m \u001b[0;34m=\u001b[0m \u001b[0;34m{\u001b[0m\u001b[0mcode\u001b[0m\u001b[0;34m:\u001b[0m \u001b[0mcounty\u001b[0m \u001b[0;32mfor\u001b[0m \u001b[0mcode\u001b[0m\u001b[0;34m,\u001b[0m \u001b[0mcounty\u001b[0m \u001b[0;32min\u001b[0m \u001b[0mcounties\u001b[0m\u001b[0;34m.\u001b[0m\u001b[0mitems\u001b[0m\u001b[0;34m(\u001b[0m\u001b[0;34m)\u001b[0m \u001b[0;32mif\u001b[0m \u001b[0mcounty\u001b[0m\u001b[0;34m[\u001b[0m\u001b[0;34m\"state\"\u001b[0m\u001b[0;34m]\u001b[0m \u001b[0;34m==\u001b[0m \u001b[0;34m\"tx\"\u001b[0m\u001b[0;34m}\u001b[0m\u001b[0;34m\u001b[0m\u001b[0;34m\u001b[0m\u001b[0m\n",
      "\u001b[0;31mAttributeError\u001b[0m: 'tuple' object has no attribute 'reverse'"
     ]
    }
   ],
   "source": [
    "from bokeh.io import show\n",
    "from bokeh.models import (ColumnDataSource, HoverTool, LogColorMapper)\n",
    "from bokeh.palettes import Viridis6 as palette\n",
    "from bokeh.plotting import figure\n",
    "from bokeh.sampledata.us_counties import data as counties\n",
    "from bokeh.sampledata.unemployment import data as unemployment\n",
    "\n",
    "palette.reverse()\n",
    "\n",
    "counties = {code: county for code, county in counties.items() if county[\"state\"] == \"tx\"}\n",
    "\n",
    "county_xs = [county[\"lons\"] for county in counties.values()]\n",
    "county_ys = [county[\"lats\"] for county in counties.values()]\n",
    "\n",
    "county_names = [county['name'] for county in counties.values()]\n",
    "county_rates = [unemployment[county_id] for county_id in counties]\n",
    "color_mapper = LogColorMapper(palette=palette)\n",
    "\n",
    "source = ColumnDataSource(data=dict(\n",
    "    x=county_xs,\n",
    "    y=county_ys,\n",
    "    name=county_names,\n",
    "    rate=county_rates,\n",
    "))\n",
    "\n",
    "TOOLS = \"pan,wheel_zoom,reset,hover,save\"\n",
    "\n",
    "p = figure(\n",
    "    title=\"Texas Unemployment, 2009\", tools=TOOLS,\n",
    "    x_axis_location=None, y_axis_location=None\n",
    ")\n",
    "p.grid.grid_line_color = None\n",
    "\n",
    "p.patches('x', 'y', source=source,\n",
    "          fill_color={'field': 'rate', 'transform': color_mapper},\n",
    "          fill_alpha=0.7, line_color=\"white\", line_width=0.5)\n",
    "\n",
    "hover = p.select_one(HoverTool)\n",
    "hover.point_policy = \"follow_mouse\"\n",
    "hover.tooltips = [\n",
    "    (\"Name\", \"@name\"),\n",
    "    (\"Unemployment rate)\", \"@rate%\"),\n",
    "    (\"(Long, Lat)\", \"($x, $y)\"),\n",
    "]\n",
    "\n",
    "show(p)"
   ]
  },
  {
   "cell_type": "code",
   "execution_count": null,
   "metadata": {},
   "outputs": [],
   "source": []
  }
 ],
 "metadata": {
  "kernelspec": {
   "display_name": "Python 3",
   "language": "python",
   "name": "python3"
  },
  "language_info": {
   "codemirror_mode": {
    "name": "ipython",
    "version": 3
   },
   "file_extension": ".py",
   "mimetype": "text/x-python",
   "name": "python",
   "nbconvert_exporter": "python",
   "pygments_lexer": "ipython3",
   "version": "3.7.6"
  }
 },
 "nbformat": 4,
 "nbformat_minor": 4
}
