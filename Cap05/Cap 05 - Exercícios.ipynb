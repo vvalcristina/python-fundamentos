{
 "cells": [
  {
   "cell_type": "markdown",
   "metadata": {},
   "source": [
    "## Python - Fundamentos para a análise de dados\n",
    "\n",
    "### Cap 05 - Programação Orientada a Objetos - Exercícios"
   ]
  },
  {
   "cell_type": "markdown",
   "metadata": {},
   "source": [
    "**Exercício 1** - Crie um objeto a partir da classe abaixo, chamado roc1, passando 2 parâmetros e depois faça uma chamada aos atributos e métodos."
   ]
  },
  {
   "cell_type": "code",
   "execution_count": 1,
   "metadata": {},
   "outputs": [],
   "source": [
    "from math import sqrt\n",
    "\n",
    "class Rocket():\n",
    "     \n",
    "    def __init__(self, x=0, y=0):\n",
    "        self.x = x\n",
    "        self.y = y\n",
    "        \n",
    "    def move_rocket(self, x_increment=0, y_increment=1):\n",
    "        self.x += x_increment\n",
    "        self.y += y_increment\n",
    "        \n",
    "    def print_rocket(self):\n",
    "        print(self.x, self.y)"
   ]
  },
  {
   "cell_type": "code",
   "execution_count": 2,
   "metadata": {},
   "outputs": [
    {
     "name": "stdout",
     "output_type": "stream",
     "text": [
      "20 22\n"
     ]
    }
   ],
   "source": [
    "roc1 = Rocket(10,11)\n",
    "roc1.x\n",
    "roc1.y\n",
    "roc1.move_rocket(10,11)\n",
    "roc1.print_rocket()"
   ]
  },
  {
   "cell_type": "markdown",
   "metadata": {},
   "source": [
    "**Exercício 2**- Crie uma classe chamada Pessoa() com os atributos: nome, cidade, telefone e e-mail. Use pelo menos 2 métodos especiais na sua classe. Crie um objeto da sua classe e faça uma chamada a pelo menos um dos seus métodos especiais"
   ]
  },
  {
   "cell_type": "code",
   "execution_count": 3,
   "metadata": {},
   "outputs": [
    {
     "data": {
      "text/plain": [
       "'A Valeria mora em Campinas .'"
      ]
     },
     "execution_count": 3,
     "metadata": {},
     "output_type": "execute_result"
    }
   ],
   "source": [
    "class Pessoa():\n",
    "    \n",
    "    def __init__(self, nome, cidade, telefone, email):\n",
    "        self.nome = nome\n",
    "        self.cidade = cidade\n",
    "        self.telefone = telefone\n",
    "        self.email = email\n",
    "        \n",
    "    def __str__(self):\n",
    "        return 'A '+self.nome+' mora em '+self.cidade+' .'\n",
    "        \n",
    "Pessoa1 = Pessoa('Valeria','Campinas','1999999999','silvvavaleria@gmail.com')\n",
    "\n",
    "str(Pessoa1)"
   ]
  },
  {
   "cell_type": "markdown",
   "metadata": {},
   "source": [
    "**Exercício 3** - Crie a classe Smartphone com 2 atributos, tamanho e interface e crie a classe MP3Player com os  atributos capacidade. A classe MP3player deve herdar os atributos da classe Smartphone."
   ]
  },
  {
   "cell_type": "code",
   "execution_count": 4,
   "metadata": {},
   "outputs": [
    {
     "name": "stdout",
     "output_type": "stream",
     "text": [
      "Smartfone criado\n",
      "MP3player criado\n",
      "Objeto criado é um MP3 Médio QLed 128GB  \n"
     ]
    }
   ],
   "source": [
    "class Smartphone(object):\n",
    "    def __init__(self,tamanho,interface):\n",
    "        self.tamanho = tamanho\n",
    "        self.interface = interface\n",
    "        print('Smartfone criado')\n",
    "\n",
    "class MP3player(Smartphone):\n",
    "    def __init__(self,capacidade, tamanho = 'Médio', interface ='QLed'):\n",
    "        self.capacidade = capacidade\n",
    "        Smartphone.__init__(self, tamanho,interface)\n",
    "        print('MP3player criado')\n",
    "        \n",
    "    def print_mp3(self):\n",
    "        print('Objeto criado é um MP3 %s %s %s '%(self.tamanho,self.interface,self.capacidade))\n",
    "\n",
    "objeto1 = MP3player('128GB ')\n",
    "objeto1.print_mp3()"
   ]
  }
 ],
 "metadata": {
  "kernelspec": {
   "display_name": "Python 3.8.2 64-bit ('aceleradev_ds': conda)",
   "language": "python",
   "name": "python38264bitaceleradevdscondac2a9797f54fc4daeaba18a7c29806af1"
  },
  "language_info": {
   "codemirror_mode": {
    "name": "ipython",
    "version": 3
   },
   "file_extension": ".py",
   "mimetype": "text/x-python",
   "name": "python",
   "nbconvert_exporter": "python",
   "pygments_lexer": "ipython3",
   "version": "3.8.2"
  }
 },
 "nbformat": 4,
 "nbformat_minor": 2
}
