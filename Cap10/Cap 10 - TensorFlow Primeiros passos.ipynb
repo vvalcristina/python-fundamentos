{
 "cells": [
  {
   "cell_type": "markdown",
   "metadata": {},
   "source": [
    "# Python Fundamentos para a Análise de Dados\n",
    "\n",
    "### Cap 10 - TensorFlow -Primeiros passos\n",
    "\n",
    "Documentação [aqui](https://www.tensorflow.org/api_docs)."
   ]
  },
  {
   "cell_type": "markdown",
   "metadata": {},
   "source": [
    "Estamos utilizando a versão 1.15.2 do tensorflow que é sua última versão estável; "
   ]
  },
  {
   "cell_type": "code",
   "execution_count": 2,
   "metadata": {},
   "outputs": [],
   "source": [
    "import tensorflow as tf"
   ]
  },
  {
   "cell_type": "code",
   "execution_count": 3,
   "metadata": {},
   "outputs": [
    {
     "data": {
      "text/plain": [
       "'1.15.2'"
      ]
     },
     "execution_count": 3,
     "metadata": {},
     "output_type": "execute_result"
    }
   ],
   "source": [
    "tf.__version__"
   ]
  },
  {
   "cell_type": "markdown",
   "metadata": {},
   "source": [
    "**Criando um tensor**\n",
    "\n",
    "O tensor criado é adicionado como um nó ao grafo."
   ]
  },
  {
   "cell_type": "code",
   "execution_count": 4,
   "metadata": {},
   "outputs": [],
   "source": [
    "hello = tf.constant('Hello, TensorFlow!')"
   ]
  },
  {
   "cell_type": "code",
   "execution_count": 1,
   "metadata": {},
   "outputs": [
    {
     "name": "stdout",
     "output_type": "stream",
     "text": [
      "Requirement already satisfied: tensorflow==1.15.2 in /home/valeria.silva/anaconda3/lib/python3.7/site-packages (1.15.2)\n",
      "Requirement already satisfied: termcolor>=1.1.0 in /home/valeria.silva/anaconda3/lib/python3.7/site-packages (from tensorflow==1.15.2) (1.1.0)\n",
      "Requirement already satisfied: wrapt>=1.11.1 in /home/valeria.silva/anaconda3/lib/python3.7/site-packages (from tensorflow==1.15.2) (1.12.1)\n",
      "Requirement already satisfied: grpcio>=1.8.6 in /home/valeria.silva/anaconda3/lib/python3.7/site-packages (from tensorflow==1.15.2) (1.30.0)\n",
      "Requirement already satisfied: absl-py>=0.7.0 in /home/valeria.silva/anaconda3/lib/python3.7/site-packages (from tensorflow==1.15.2) (0.9.0)\n",
      "Requirement already satisfied: protobuf>=3.6.1 in /home/valeria.silva/anaconda3/lib/python3.7/site-packages (from tensorflow==1.15.2) (3.11.3)\n",
      "Requirement already satisfied: six>=1.10.0 in /home/valeria.silva/anaconda3/lib/python3.7/site-packages (from tensorflow==1.15.2) (1.15.0)\n",
      "Requirement already satisfied: tensorflow-estimator==1.15.1 in /home/valeria.silva/anaconda3/lib/python3.7/site-packages (from tensorflow==1.15.2) (1.15.1)\n",
      "Requirement already satisfied: astor>=0.6.0 in /home/valeria.silva/anaconda3/lib/python3.7/site-packages (from tensorflow==1.15.2) (0.8.1)\n",
      "Requirement already satisfied: wheel>=0.26; python_version >= \"3\" in /home/valeria.silva/anaconda3/lib/python3.7/site-packages (from tensorflow==1.15.2) (0.34.2)\n",
      "Requirement already satisfied: gast==0.2.2 in /home/valeria.silva/anaconda3/lib/python3.7/site-packages (from tensorflow==1.15.2) (0.2.2)\n",
      "Requirement already satisfied: keras-applications>=1.0.8 in /home/valeria.silva/anaconda3/lib/python3.7/site-packages (from tensorflow==1.15.2) (1.0.8)\n",
      "Requirement already satisfied: opt-einsum>=2.3.2 in /home/valeria.silva/anaconda3/lib/python3.7/site-packages (from tensorflow==1.15.2) (3.2.1)\n",
      "Requirement already satisfied: numpy<2.0,>=1.16.0 in /home/valeria.silva/anaconda3/lib/python3.7/site-packages (from tensorflow==1.15.2) (1.18.5)\n",
      "Requirement already satisfied: tensorboard<1.16.0,>=1.15.0 in /home/valeria.silva/anaconda3/lib/python3.7/site-packages (from tensorflow==1.15.2) (1.15.0)\n",
      "Requirement already satisfied: keras-preprocessing>=1.0.5 in /home/valeria.silva/anaconda3/lib/python3.7/site-packages (from tensorflow==1.15.2) (1.1.2)\n",
      "Requirement already satisfied: google-pasta>=0.1.6 in /home/valeria.silva/anaconda3/lib/python3.7/site-packages (from tensorflow==1.15.2) (0.2.0)\n",
      "Requirement already satisfied: setuptools in /home/valeria.silva/anaconda3/lib/python3.7/site-packages (from protobuf>=3.6.1->tensorflow==1.15.2) (47.3.1.post20200622)\n",
      "Requirement already satisfied: h5py in /home/valeria.silva/anaconda3/lib/python3.7/site-packages (from keras-applications>=1.0.8->tensorflow==1.15.2) (2.10.0)\n",
      "Requirement already satisfied: werkzeug>=0.11.15 in /home/valeria.silva/anaconda3/lib/python3.7/site-packages (from tensorboard<1.16.0,>=1.15.0->tensorflow==1.15.2) (1.0.1)\n",
      "Requirement already satisfied: markdown>=2.6.8 in /home/valeria.silva/anaconda3/lib/python3.7/site-packages (from tensorboard<1.16.0,>=1.15.0->tensorflow==1.15.2) (3.2.2)\n",
      "Requirement already satisfied: importlib-metadata; python_version < \"3.8\" in /home/valeria.silva/anaconda3/lib/python3.7/site-packages (from markdown>=2.6.8->tensorboard<1.16.0,>=1.15.0->tensorflow==1.15.2) (1.6.1)\n",
      "Requirement already satisfied: zipp>=0.5 in /home/valeria.silva/anaconda3/lib/python3.7/site-packages (from importlib-metadata; python_version < \"3.8\"->markdown>=2.6.8->tensorboard<1.16.0,>=1.15.0->tensorflow==1.15.2) (3.1.0)\n"
     ]
    }
   ],
   "source": [
    "!pip install tensorflow==1.15.2"
   ]
  },
  {
   "cell_type": "code",
   "execution_count": 5,
   "metadata": {},
   "outputs": [
    {
     "name": "stdout",
     "output_type": "stream",
     "text": [
      "Tensor(\"Const:0\", shape=(), dtype=string)\n"
     ]
    }
   ],
   "source": [
    "print(hello)"
   ]
  },
  {
   "cell_type": "markdown",
   "metadata": {},
   "source": [
    "**Iniciando uma sessão**\n",
    "\n",
    "Vamos iniciar uma sessão:"
   ]
  },
  {
   "cell_type": "code",
   "execution_count": 6,
   "metadata": {},
   "outputs": [],
   "source": [
    "sess = tf.Session()"
   ]
  },
  {
   "cell_type": "markdown",
   "metadata": {},
   "source": [
    "**Executando o Grapho computacional**\n",
    "\n",
    "Até então alocamos os nós, mas não executamos de fato o grapho. Executamos o grapho através do inicio da sessão."
   ]
  },
  {
   "cell_type": "code",
   "execution_count": 7,
   "metadata": {},
   "outputs": [
    {
     "name": "stdout",
     "output_type": "stream",
     "text": [
      "b'Hello, TensorFlow!'\n"
     ]
    }
   ],
   "source": [
    "print(sess.run(hello))"
   ]
  },
  {
   "cell_type": "markdown",
   "metadata": {},
   "source": [
    "## Operações matemáticas com tensores\n",
    "\n",
    "Tudo é tensor, o que muda é a dimensão do tensor."
   ]
  },
  {
   "cell_type": "markdown",
   "metadata": {},
   "source": [
    "### Soma\n",
    "\n",
    "Vamos criar 2 tensores ranking 0 (scalar)."
   ]
  },
  {
   "cell_type": "code",
   "execution_count": 8,
   "metadata": {},
   "outputs": [],
   "source": [
    "# Constantes\n",
    "const_a = tf.constant(5)\n",
    "const_b = tf.constant(9)"
   ]
  },
  {
   "cell_type": "markdown",
   "metadata": {},
   "source": [
    "O shape do tensor vazio indica que ele é um escalar."
   ]
  },
  {
   "cell_type": "code",
   "execution_count": 9,
   "metadata": {},
   "outputs": [
    {
     "name": "stdout",
     "output_type": "stream",
     "text": [
      "Tensor(\"Const_1:0\", shape=(), dtype=int32)\n"
     ]
    }
   ],
   "source": [
    "print(const_a)"
   ]
  },
  {
   "cell_type": "code",
   "execution_count": 10,
   "metadata": {},
   "outputs": [],
   "source": [
    "total = const_a + const_b"
   ]
  },
  {
   "cell_type": "markdown",
   "metadata": {},
   "source": [
    "Neste momento não executamos o sensor ainda. Só executamos o tensor quando executamos uma Session."
   ]
  },
  {
   "cell_type": "code",
   "execution_count": 11,
   "metadata": {},
   "outputs": [
    {
     "name": "stdout",
     "output_type": "stream",
     "text": [
      "Tensor(\"add:0\", shape=(), dtype=int32)\n"
     ]
    }
   ],
   "source": [
    "print(total)"
   ]
  },
  {
   "cell_type": "code",
   "execution_count": 12,
   "metadata": {},
   "outputs": [
    {
     "name": "stdout",
     "output_type": "stream",
     "text": [
      "\n",
      "A soma do node1 com o node2 é: 14.000000\n"
     ]
    }
   ],
   "source": [
    "# Sessão TF\n",
    "with tf.compat.v1.Session() as sess:\n",
    "    print('\\nA soma do node1 com o node2 é: %f' % sess.run(total))"
   ]
  },
  {
   "cell_type": "code",
   "execution_count": 13,
   "metadata": {},
   "outputs": [
    {
     "name": "stdout",
     "output_type": "stream",
     "text": [
      "\n",
      "A soma do node1 com o node2 é: 14\n"
     ]
    }
   ],
   "source": [
    "# Criando um node de um grapho computacional\n",
    "node1 = tf.constant(5, dtype = tf.int32)\n",
    "node2 = tf.constant(9, dtype = tf.int32)\n",
    "node3 = tf.add(node1, node2)\n",
    "\n",
    "# Cria a sessão TF\n",
    "sess = tf.Session()\n",
    " \n",
    "# Executa o grafo\n",
    "print(\"\\nA soma do node1 com o node2 é:\", sess.run(node3))\n",
    " \n",
    "# Fecha a sessão\n",
    "sess.close()"
   ]
  },
  {
   "cell_type": "markdown",
   "metadata": {},
   "source": [
    "### Subtração\n",
    "\n",
    "\n",
    "Posso criar um tensor com valores randômicos. Esses valores randômicos podem seguir uma distribuição normal ou distribuição uniforme.\n",
    "\n",
    "O shape é o que define exatamente o tipo de tensor."
   ]
  },
  {
   "cell_type": "code",
   "execution_count": 14,
   "metadata": {},
   "outputs": [],
   "source": [
    "# Tensores randômicos\n",
    "rand_a = tf.random_normal([3], 2.0)\n",
    "rand_b = tf.random_uniform([3], 1.0, 4.0)"
   ]
  },
  {
   "cell_type": "code",
   "execution_count": 15,
   "metadata": {},
   "outputs": [
    {
     "name": "stdout",
     "output_type": "stream",
     "text": [
      "Tensor(\"random_normal:0\", shape=(3,), dtype=float32)\n"
     ]
    }
   ],
   "source": [
    "print(rand_a)"
   ]
  },
  {
   "cell_type": "code",
   "execution_count": 16,
   "metadata": {},
   "outputs": [
    {
     "name": "stdout",
     "output_type": "stream",
     "text": [
      "Tensor(\"random_uniform:0\", shape=(3,), dtype=float32)\n"
     ]
    }
   ],
   "source": [
    "print(rand_b)"
   ]
  },
  {
   "cell_type": "code",
   "execution_count": 17,
   "metadata": {},
   "outputs": [],
   "source": [
    "# Subtração\n",
    "diff = tf.subtract(rand_a, rand_b)"
   ]
  },
  {
   "cell_type": "code",
   "execution_count": 18,
   "metadata": {},
   "outputs": [
    {
     "name": "stdout",
     "output_type": "stream",
     "text": [
      "\n",
      "Tensor rand_a:  [0.4223529 1.7540488 1.9140685]\n",
      "\n",
      "Tensor rand_b:  [2.857789  2.6945357 1.8294345]\n",
      "\n",
      "Subtração entre os 2 tensores é:  [ 0.11822283 -0.395267   -0.6593404 ]\n"
     ]
    }
   ],
   "source": [
    "# Sessão TF\n",
    "with tf.Session() as sess:\n",
    "    print('\\nTensor rand_a: ', sess.run(rand_a))\n",
    "    print('\\nTensor rand_b: ', sess.run(rand_b))\n",
    "    print('\\nSubtração entre os 2 tensores é: ', sess.run(diff))"
   ]
  },
  {
   "cell_type": "markdown",
   "metadata": {},
   "source": [
    "### Divisão"
   ]
  },
  {
   "cell_type": "code",
   "execution_count": 19,
   "metadata": {},
   "outputs": [],
   "source": [
    "node1 = tf.constant(21, dtype=tf.int32)\n",
    "node2 = tf.constant(7, dtype=tf.int32)"
   ]
  },
  {
   "cell_type": "code",
   "execution_count": 20,
   "metadata": {},
   "outputs": [
    {
     "name": "stdout",
     "output_type": "stream",
     "text": [
      "WARNING:tensorflow:From <ipython-input-20-29650240f182>:1: div (from tensorflow.python.ops.math_ops) is deprecated and will be removed in a future version.\n",
      "Instructions for updating:\n",
      "Deprecated in favor of operator or tf.math.divide.\n"
     ]
    }
   ],
   "source": [
    "div = tf.div(node1, node2)"
   ]
  },
  {
   "cell_type": "code",
   "execution_count": 21,
   "metadata": {},
   "outputs": [
    {
     "name": "stdout",
     "output_type": "stream",
     "text": [
      "\n",
      "Divisão entre os 2 tensores é:  3\n"
     ]
    }
   ],
   "source": [
    "# Sessão TF\n",
    "with tf.Session() as sess:\n",
    "    print('\\nDivisão entre os 2 tensores é: ', sess.run(div))"
   ]
  },
  {
   "cell_type": "markdown",
   "metadata": {},
   "source": [
    "## Multiplicação\n",
    "\n",
    "Teorias sobre matrizes no [Khan Academy](https://pt.khanacademy.org/math/precalculus/precalc-matrices)."
   ]
  },
  {
   "cell_type": "code",
   "execution_count": 22,
   "metadata": {},
   "outputs": [],
   "source": [
    "# Criando tensores\n",
    "tensor_a = tf.constant([[4., 2.]])\n",
    "tensor_b = tf.constant([[3.],[7.]])"
   ]
  },
  {
   "cell_type": "code",
   "execution_count": 23,
   "metadata": {},
   "outputs": [
    {
     "name": "stdout",
     "output_type": "stream",
     "text": [
      "Tensor(\"Const_7:0\", shape=(1, 2), dtype=float32)\n"
     ]
    }
   ],
   "source": [
    "print(tensor_a)"
   ]
  },
  {
   "cell_type": "code",
   "execution_count": 24,
   "metadata": {},
   "outputs": [
    {
     "name": "stdout",
     "output_type": "stream",
     "text": [
      "Tensor(\"Const_8:0\", shape=(2, 1), dtype=float32)\n"
     ]
    }
   ],
   "source": [
    "print(tensor_b)"
   ]
  },
  {
   "cell_type": "markdown",
   "metadata": {},
   "source": [
    "**Multiplicação de elementos das matrizes**\n",
    "\n",
    "tf.multiply(X, Y) executa multiplicação element-wise \n",
    "\n",
    "https://www.tensorflow.org/api_docs/python/tf/multiply"
   ]
  },
  {
   "cell_type": "code",
   "execution_count": 25,
   "metadata": {},
   "outputs": [],
   "source": [
    "prod = tf.multiply(tensor_a, tensor_b)"
   ]
  },
  {
   "cell_type": "code",
   "execution_count": 26,
   "metadata": {},
   "outputs": [
    {
     "name": "stdout",
     "output_type": "stream",
     "text": [
      "\n",
      "tensor_a: \n",
      " [[4. 2.]]\n",
      "\n",
      "tensor_b: \n",
      " [[3.]\n",
      " [7.]]\n",
      "\n",
      "Produto Element-wise Entre os Tensores: \n",
      " [[12.  6.]\n",
      " [28. 14.]]\n"
     ]
    }
   ],
   "source": [
    "with tf.Session() as sess:\n",
    "    print('\\ntensor_a: \\n', sess.run(tensor_a))\n",
    "    print('\\ntensor_b: \\n', sess.run(tensor_b))\n",
    "    print('\\nProduto Element-wise Entre os Tensores: \\n', sess.run(prod))"
   ]
  },
  {
   "cell_type": "markdown",
   "metadata": {},
   "source": [
    "**Multiplicação entre matrizes**\n",
    "\n",
    " tf.matmul(X, Y) executa multiplicação entre matrizes\n",
    " \n",
    " https://www.tensorflow.org/api_docs/python/tf/matmul\n",
    "   \n",
    " mat_prod = tf.matmul(mat_a, mat_b)"
   ]
  },
  {
   "cell_type": "code",
   "execution_count": 28,
   "metadata": {},
   "outputs": [],
   "source": [
    "# Outro exemplo de Multiplicação de Matrizes\n",
    "mat_a = tf.constant([[2, 3], [9, 2], [4, 5]])\n",
    "mat_b = tf.constant([[6, 4, 5], [3, 7, 2]])"
   ]
  },
  {
   "cell_type": "code",
   "execution_count": 30,
   "metadata": {},
   "outputs": [
    {
     "name": "stdout",
     "output_type": "stream",
     "text": [
      "Tensor(\"Const_9:0\", shape=(3, 2), dtype=int32)\n"
     ]
    }
   ],
   "source": [
    "print(mat_a)"
   ]
  },
  {
   "cell_type": "code",
   "execution_count": 31,
   "metadata": {},
   "outputs": [
    {
     "name": "stdout",
     "output_type": "stream",
     "text": [
      "Tensor(\"Const_10:0\", shape=(2, 3), dtype=int32)\n"
     ]
    }
   ],
   "source": [
    "print(mat_b)"
   ]
  },
  {
   "cell_type": "code",
   "execution_count": 29,
   "metadata": {},
   "outputs": [],
   "source": [
    "mat_prod = tf.matmul(mat_a, mat_b)"
   ]
  },
  {
   "cell_type": "code",
   "execution_count": 32,
   "metadata": {},
   "outputs": [
    {
     "name": "stdout",
     "output_type": "stream",
     "text": [
      "\n",
      "Tensor mat_a: \n",
      " [[2 3]\n",
      " [9 2]\n",
      " [4 5]]\n",
      "\n",
      "Tensor mat_b: \n",
      " [[6 4 5]\n",
      " [3 7 2]]\n",
      "\n",
      "Produto Element-wise Entre os Tensores (Matrizes): \n",
      " [[21 29 16]\n",
      " [60 50 49]\n",
      " [39 51 30]]\n"
     ]
    }
   ],
   "source": [
    "# Executa a sessão\n",
    "with tf.Session() as sess:\n",
    "    print('\\nTensor mat_a: \\n', sess.run(mat_a))\n",
    "    print('\\nTensor mat_b: \\n', sess.run(mat_b))\n",
    "    print('\\nProduto Element-wise Entre os Tensores (Matrizes): \\n', sess.run(mat_prod))"
   ]
  },
  {
   "cell_type": "code",
   "execution_count": 27,
   "metadata": {},
   "outputs": [
    {
     "data": {
      "image/png": "[encoded data removed]",
      "text/plain": [
       "<IPython.core.display.Image object>"
      ]
     },
     "execution_count": 27,
     "metadata": {},
     "output_type": "execute_result"
    }
   ],
   "source": [
    "from IPython.display import Image\n",
    "Image('tensor/matrizes.png')"
   ]
  },
  {
   "cell_type": "markdown",
   "metadata": {},
   "source": [
    "### Usando Variáveis\n",
    "\n",
    "O TensorFlow também possui nodes variáveis que podem conter dados variáveis. Elas são usados principalmente para manter e atualizar parâmetros de um modelo de treinamento.\n",
    "\n",
    "Variáveis são buffers na memória contendo tensores. Elas devem ser inicializados e podem ser salvas durante e após o treinamento. Você pode restaurar os valores salvos posteriormente para exercitar ou analisar o modelo.\n",
    "\n",
    "Uma diferença importante a notar entre uma constante e uma variável é:\n",
    "\n",
    "O valor de uma constante é armazenado no grafo e seu valor é replicado onde o grafo é carregado. Uma variável é armazenada separadamente e pode estar em um servidor de parâmetros."
   ]
  },
  {
   "cell_type": "code",
   "execution_count": 33,
   "metadata": {},
   "outputs": [
    {
     "name": "stdout",
     "output_type": "stream",
     "text": [
      "\n",
      "Tensor Original:\n",
      " [[0. 0.]\n",
      " [0. 0.]]\n",
      "\n",
      "Tensor depois da adição:\n",
      " [[1. 1.]\n",
      " [1. 1.]]\n"
     ]
    }
   ],
   "source": [
    "# Criando um node no grafo computacional\n",
    "node = tf.Variable(tf.zeros([2,2]))\n",
    " \n",
    "# Executando o grafo computacional\n",
    "with tf.Session() as sess:\n",
    " \n",
    "    # Inicializando as variábeis\n",
    "    sess.run(tf.global_variables_initializer())\n",
    " \n",
    "    # Avaliando o node\n",
    "    print(\"\\nTensor Original:\\n\", sess.run(node))\n",
    " \n",
    "    # Adição element-wise no tensor\n",
    "    node = node.assign(node + tf.ones([2,2]))\n",
    " \n",
    "    # Avaliando o node novamente\n",
    "    print(\"\\nTensor depois da adição:\\n\", sess.run(node))"
   ]
  },
  {
   "cell_type": "markdown",
   "metadata": {},
   "source": [
    "### Usando Placeholders\n",
    "\n",
    "Um grafo pode ser parametrizado para aceitar dados externos e podemos reservar áreas conhecidas como espaços reservados (Placeholders). Um espaço reservado é uma promessa para fornecer um valor mais tarde.\n",
    "\n",
    "Ao avaliar o grafo envolvendo nós de espaço reservado, um parâmetro feed_dict é passado para a sessão."
   ]
  },
  {
   "cell_type": "code",
   "execution_count": 34,
   "metadata": {},
   "outputs": [
    {
     "name": "stdout",
     "output_type": "stream",
     "text": [
      "[[3 6 9]\n",
      " [2 4 6]\n",
      " [1 2 3]]\n"
     ]
    }
   ],
   "source": [
    "#Import\n",
    "import tensorflow as tf\n",
    " \n",
    "# Criando nodes no Grafo Computacional\n",
    "a = tf.placeholder(tf.int32, shape=(3,1))\n",
    "b = tf.placeholder(tf.int32, shape=(1,3))\n",
    "c = tf.matmul(a,b)\n",
    " \n",
    "# Executando o Grafo Computacional\n",
    "with tf.Session() as sess:\n",
    "    print(sess.run(c, feed_dict={a:[[3],[2],[1]], b:[[1,2,3]]}))"
   ]
  }
 ],
 "metadata": {
  "kernelspec": {
   "display_name": "Python 3",
   "language": "python",
   "name": "python3"
  },
  "language_info": {
   "codemirror_mode": {
    "name": "ipython",
    "version": 3
   },
   "file_extension": ".py",
   "mimetype": "text/x-python",
   "name": "python",
   "nbconvert_exporter": "python",
   "pygments_lexer": "ipython3",
   "version": "3.7.6"
  }
 },
 "nbformat": 4,
 "nbformat_minor": 4
}
