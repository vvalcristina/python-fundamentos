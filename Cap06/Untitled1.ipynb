{
 "cells": [
  {
   "cell_type": "markdown",
   "metadata": {},
   "source": [
    "## Python - Fundamentos para a Análise de Dados\n",
    "\n",
    "### Mini-projeto - Stream de Dados do Twitter\n",
    "\n",
    "Neste projeto vamos criar um stream de dados do [twitter](https://twitter.com/explore) com o Banco de Dados MongoDB e as libs Pandas(https://pandas.pydata.org/) e Scikit-Learn (https://scikit-learn.org/stable/).\n",
    "\n",
    "Este projeto consiste em aplicar técnincas de processamento de linguagem natural e métodos analíticos para extrair informações relevantes de dados de texto, o [Text Mining](https://www.linguamatics.com/what-text-mining-text-analytics-and-natural-language-processing). "
   ]
  },
  {
   "cell_type": "markdown",
   "metadata": {},
   "source": [
    "**Twitter**\n",
    "\n",
    "O Twitter é uma fonte rica de informações sobre diversos assuntos. Podemos usar os dados para analisar tendências relacionados a uma palavra chave, analisar o sentimento relacionado a um determinado assunto e feedbacks de marcas.\n",
    "\n",
    "**Mongo DB**\n",
    "\n",
    "Banco de dados NoSQL que permite a integração entre certos tipos de aplicação, de forma fácil e rápido.\n",
    "\n",
    "Para obter esses dados será necessário a criação de uma API. Nesse caso vamos utilizar o [Twitter Stream API](https://developer.twitter.com/en/docs/tweets/filter-realtime/guides/basic-stream-parameters).\n",
    "\n",
    "**Obtendo as API's Keys:**\n",
    "\n",
    "* Crie uma conta no Twitter, caso ainda não possua.\n",
    "* Acesse as [apps](https://developer.twitter.com/en/apps) com seu usuário do Twitter.\n",
    "* Clique em 'Criar uma nova Aplicação'.\n",
    "* Preencha as informações e clique em \"Criar T"
   ]
  },
  {
   "cell_type": "code",
   "execution_count": null,
   "metadata": {},
   "outputs": [],
   "source": []
  }
 ],
 "metadata": {
  "kernelspec": {
   "display_name": "Python 3",
   "language": "python",
   "name": "python3"
  },
  "language_info": {
   "codemirror_mode": {
    "name": "ipython",
    "version": 3
   },
   "file_extension": ".py",
   "mimetype": "text/x-python",
   "name": "python",
   "nbconvert_exporter": "python",
   "pygments_lexer": "ipython3",
   "version": "3.7.6"
  }
 },
 "nbformat": 4,
 "nbformat_minor": 2
}
